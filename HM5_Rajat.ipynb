{
 "cells": [
  {
   "cell_type": "markdown",
   "metadata": {
    "id": "qA9iLIAI4Gdx"
   },
   "source": [
    "# Home 5: Build a seq2seq model for machine translation.\n",
    "\n",
    "### Name: Rajat Verma\n",
    "\n",
    "### Task: Translate English to Italian"
   ]
  },
  {
   "cell_type": "code",
   "execution_count": null,
   "metadata": {
    "colab": {
     "base_uri": "https://localhost:8080/"
    },
    "id": "lRE76fAvECbD",
    "outputId": "33681657-5da8-4f9c-9477-11ff405ad46c"
   },
   "outputs": [
    {
     "name": "stdout",
     "output_type": "stream",
     "text": [
      "Drive already mounted at /content/drive; to attempt to forcibly remount, call drive.mount(\"/content/drive\", force_remount=True).\n"
     ]
    }
   ],
   "source": [
    "from google.colab import drive\n",
    "drive.mount('/content/drive')"
   ]
  },
  {
   "cell_type": "markdown",
   "metadata": {
    "id": "s1ajCJA94Gd7"
   },
   "source": [
    "## 0. You will do the following:\n",
    "\n",
    "1. Read and run my code.\n",
    "2. Complete the code in Section 1.1 and Section 4.2.\n",
    "\n",
    "    * Translation **English** to **German** is not acceptable!!! Try another pair of languages.\n",
    "    \n",
    "3. **Make improvements.** Directly modify the code in Section 3. Do at least one of the two. By doing both correctly, you will get up to 1 bonus score to the total.\n",
    "\n",
    "    * Bi-LSTM instead of LSTM.\n",
    "        \n",
    "    * Attention. (You are allowed to use existing code.)\n",
    "    \n",
    "4. Evaluate the translation using the BLEU score. \n",
    "\n",
    "    * Optional. Up to 1 bonus scores to the total.\n",
    "    \n",
    "5. Convert the notebook to .HTML file. \n",
    "\n",
    "    * The HTML file must contain the code and the output after execution.\n",
    "\n",
    "6. Put the .HTML file in your Google Drive, Dropbox, or Github repo.  (If you submit the file to Google Drive or Dropbox, you must make the file \"open-access\". The delay caused by \"deny of access\" may result in late penalty.)\n",
    "\n",
    "7. Submit the link to the HTML file to Canvas.    \n"
   ]
  },
  {
   "cell_type": "markdown",
   "metadata": {
    "id": "LXNEe1rd4Gd-"
   },
   "source": [
    "### Hint: \n",
    "\n",
    "To implement ```Bi-LSTM```, you will need the following code to build the encoder. Do NOT use Bi-LSTM for the decoder."
   ]
  },
  {
   "cell_type": "code",
   "execution_count": 1,
   "metadata": {
    "id": "F7-aqrut4Gd_"
   },
   "outputs": [],
   "source": [
    "# from keras.layers import Bidirectional, Concatenate\n",
    "\n",
    "# encoder_bilstm = Bidirectional(LSTM(latent_dim, return_state=True, \n",
    "#                                   dropout=0.5, name='encoder_lstm'))\n",
    "# _, forward_h, forward_c, backward_h, backward_c = encoder_bilstm(encoder_inputs)\n",
    "\n",
    "# state_h = Concatenate()([forward_h, backward_h])\n",
    "# state_c = Concatenate()([forward_c, backward_c])"
   ]
  },
  {
   "cell_type": "markdown",
   "metadata": {
    "id": "VgMKjnpZ4GeB"
   },
   "source": [
    "## 1. Data preparation\n",
    "\n",
    "1. Download data (e.g., \"deu-eng.zip\") from http://www.manythings.org/anki/\n",
    "2. Unzip the .ZIP file.\n",
    "3. Put the .TXT file (e.g., \"deu.txt\") in the directory \"./Data/\"."
   ]
  },
  {
   "cell_type": "markdown",
   "metadata": {
    "id": "XdRLGjpz4GeC"
   },
   "source": [
    "### 1.1. Load and clean text\n"
   ]
  },
  {
   "cell_type": "code",
   "execution_count": 2,
   "metadata": {
    "id": "9ms9yBjA4GeC"
   },
   "outputs": [],
   "source": [
    "import re\n",
    "import string\n",
    "from unicodedata import normalize\n",
    "import numpy\n",
    "\n",
    "# load doc into memory\n",
    "def load_doc(filename):\n",
    "    # open the file as read only\n",
    "    file = open(filename, mode='rt', encoding='utf-8')\n",
    "    # read all text\n",
    "    text = file.read()\n",
    "    # close the file\n",
    "    file.close()\n",
    "    return text\n",
    "\n",
    "\n",
    "# split a loaded document into sentences\n",
    "def to_pairs(doc):\n",
    "    lines = doc.strip().split('\\n')\n",
    "    pairs = [line.split('\\t') for line in  lines]\n",
    "    return pairs\n",
    "\n",
    "def clean_data(lines):\n",
    "    cleaned = list()\n",
    "    # prepare regex for char filtering\n",
    "    re_print = re.compile('[^%s]' % re.escape(string.printable))\n",
    "    # prepare translation table for removing punctuation\n",
    "    table = str.maketrans('', '', string.punctuation)\n",
    "    for pair in lines:\n",
    "        clean_pair = list()\n",
    "        for line in pair:\n",
    "            # normalize unicode characters\n",
    "            line = normalize('NFD', line).encode('ascii', 'ignore')\n",
    "            line = line.decode('UTF-8')\n",
    "            # tokenize on white space\n",
    "            line = line.split()\n",
    "            # convert to lowercase\n",
    "            line = [word.lower() for word in line]\n",
    "            # remove punctuation from each token\n",
    "            line = [word.translate(table) for word in line]\n",
    "            # remove non-printable chars form each token\n",
    "            line = [re_print.sub('', w) for w in line]\n",
    "            # remove tokens with numbers in them\n",
    "            line = [word for word in line if word.isalpha()]\n",
    "            # store as string\n",
    "            clean_pair.append(' '.join(line))\n",
    "        cleaned.append(clean_pair)\n",
    "    return numpy.array(cleaned)"
   ]
  },
  {
   "cell_type": "markdown",
   "metadata": {
    "id": "yOKH1t_e4GeE"
   },
   "source": [
    "#### Fill the following blanks:"
   ]
  },
  {
   "cell_type": "code",
   "execution_count": 3,
   "metadata": {
    "id": "958FdkM_4GeF"
   },
   "outputs": [],
   "source": [
    "# e.g., filename = 'Data/deu.txt'\n",
    "filename = \"/ita.txt\"\n",
    "\n",
    "# e.g., n_train = 20000\n",
    "n_train = 20000"
   ]
  },
  {
   "cell_type": "code",
   "execution_count": 4,
   "metadata": {
    "id": "HllbPcjQ4GeF"
   },
   "outputs": [],
   "source": [
    "# load dataset\n",
    "doc = load_doc(filename)\n",
    "\n",
    "# split into Language1-Language2 pairs\n",
    "pairs = to_pairs(doc)\n",
    "\n",
    "# clean sentences\n",
    "clean_pairs = clean_data(pairs)[0:n_train, :]"
   ]
  },
  {
   "cell_type": "code",
   "execution_count": 5,
   "metadata": {
    "colab": {
     "base_uri": "https://localhost:8080/"
    },
    "id": "j-BufmeU4GeG",
    "outputId": "b5bc1925-7eea-42db-95ea-091f868539d1"
   },
   "outputs": [
    {
     "name": "stdout",
     "output_type": "stream",
     "text": [
      "[i resigned] => [diedi le dimissioni]\n",
      "[i resigned] => [io diedi le dimissioni]\n",
      "[i saw them] => [li ho visti]\n",
      "[i saw them] => [io li ho visti]\n",
      "[i saw them] => [le ho viste]\n",
      "[i saw them] => [io le ho viste]\n",
      "[i screamed] => [ho urlato]\n",
      "[i screamed] => [io ho urlato]\n",
      "[i screamed] => [urlai]\n",
      "[i screamed] => [io urlai]\n"
     ]
    }
   ],
   "source": [
    "for i in range(3000, 3010):\n",
    "    print('[' + clean_pairs[i, 0] + '] => [' + clean_pairs[i, 1] + ']')"
   ]
  },
  {
   "cell_type": "code",
   "execution_count": 6,
   "metadata": {
    "colab": {
     "base_uri": "https://localhost:8080/"
    },
    "id": "T3AbZ7Tc4GeG",
    "outputId": "ae098ca9-7e6f-4c34-dc11-66ed2d8c6c87"
   },
   "outputs": [
    {
     "name": "stdout",
     "output_type": "stream",
     "text": [
      "Length of input_texts:  (20000,)\n",
      "Length of target_texts: (20000,)\n"
     ]
    }
   ],
   "source": [
    "input_texts = clean_pairs[:, 0]\n",
    "target_texts = ['\\t' + text + '\\n' for text in clean_pairs[:, 1]]\n",
    "\n",
    "print('Length of input_texts:  ' + str(input_texts.shape))\n",
    "print('Length of target_texts: ' + str(input_texts.shape))"
   ]
  },
  {
   "cell_type": "code",
   "execution_count": 7,
   "metadata": {
    "colab": {
     "base_uri": "https://localhost:8080/"
    },
    "id": "4RDn3J7N4GeG",
    "outputId": "eda6b39f-dd8c-415e-fa12-d9071af0897c"
   },
   "outputs": [
    {
     "name": "stdout",
     "output_type": "stream",
     "text": [
      "max length of input  sentences: 14\n",
      "max length of target sentences: 41\n"
     ]
    }
   ],
   "source": [
    "max_encoder_seq_length = max(len(line) for line in input_texts)\n",
    "max_decoder_seq_length = max(len(line) for line in target_texts)\n",
    "\n",
    "print('max length of input  sentences: %d' % (max_encoder_seq_length))\n",
    "print('max length of target sentences: %d' % (max_decoder_seq_length))"
   ]
  },
  {
   "cell_type": "markdown",
   "metadata": {
    "id": "mALa3Z164GeH"
   },
   "source": [
    "**Remark:** To this end, you have two lists of sentences: input_texts and target_texts"
   ]
  },
  {
   "cell_type": "markdown",
   "metadata": {
    "id": "B4JJyylL4GeI"
   },
   "source": [
    "## 2. Text processing\n",
    "\n",
    "### 2.1. Convert texts to sequences\n",
    "\n",
    "- Input: A list of $n$ sentences (with max length $t$).\n",
    "- It is represented by a $n\\times t$ matrix after the tokenization and zero-padding."
   ]
  },
  {
   "cell_type": "code",
   "execution_count": 8,
   "metadata": {
    "colab": {
     "base_uri": "https://localhost:8080/"
    },
    "id": "qdeiJW4E4GeI",
    "outputId": "4eee8ef5-8b47-4eee-c32d-06063275389e"
   },
   "outputs": [
    {
     "name": "stdout",
     "output_type": "stream",
     "text": [
      "shape of encoder_input_seq: (20000, 14)\n",
      "shape of input_token_index: 27\n",
      "shape of decoder_input_seq: (20000, 41)\n",
      "shape of target_token_index: 29\n"
     ]
    }
   ],
   "source": [
    "from keras.preprocessing.text import Tokenizer\n",
    "from keras.preprocessing.sequence import pad_sequences\n",
    "\n",
    "# encode and pad sequences\n",
    "def text2sequences(max_len, lines):\n",
    "    tokenizer = Tokenizer(char_level=True, filters='')\n",
    "    tokenizer.fit_on_texts(lines)\n",
    "    seqs = tokenizer.texts_to_sequences(lines)\n",
    "    seqs_pad = pad_sequences(seqs, maxlen=max_len, padding='post')\n",
    "    return seqs_pad, tokenizer.word_index\n",
    "\n",
    "\n",
    "encoder_input_seq, input_token_index = text2sequences(max_encoder_seq_length, \n",
    "                                                      input_texts)\n",
    "decoder_input_seq, target_token_index = text2sequences(max_decoder_seq_length, \n",
    "                                                       target_texts)\n",
    "\n",
    "print('shape of encoder_input_seq: ' + str(encoder_input_seq.shape))\n",
    "print('shape of input_token_index: ' + str(len(input_token_index)))\n",
    "print('shape of decoder_input_seq: ' + str(decoder_input_seq.shape))\n",
    "print('shape of target_token_index: ' + str(len(target_token_index)))"
   ]
  },
  {
   "cell_type": "code",
   "execution_count": 9,
   "metadata": {
    "colab": {
     "base_uri": "https://localhost:8080/"
    },
    "id": "_j1-9jZd4GeJ",
    "outputId": "2d6e0f88-609e-46b8-c975-de43c635bd69"
   },
   "outputs": [
    {
     "name": "stdout",
     "output_type": "stream",
     "text": [
      "num_encoder_tokens: 28\n",
      "num_decoder_tokens: 30\n"
     ]
    }
   ],
   "source": [
    "num_encoder_tokens = len(input_token_index) + 1\n",
    "num_decoder_tokens = len(target_token_index) + 1\n",
    "\n",
    "print('num_encoder_tokens: ' + str(num_encoder_tokens))\n",
    "print('num_decoder_tokens: ' + str(num_decoder_tokens))"
   ]
  },
  {
   "cell_type": "markdown",
   "metadata": {
    "id": "DVdkAJYQ4GeK"
   },
   "source": [
    "**Remark:** To this end, the input language and target language texts are converted to 2 matrices. \n",
    "\n",
    "- Their number of rows are both n_train.\n",
    "- Their number of columns are respective max_encoder_seq_length and max_decoder_seq_length."
   ]
  },
  {
   "cell_type": "markdown",
   "metadata": {
    "id": "LkaTUOAp4GeL"
   },
   "source": [
    "The followings print a sentence and its representation as a sequence."
   ]
  },
  {
   "cell_type": "code",
   "execution_count": 10,
   "metadata": {
    "colab": {
     "base_uri": "https://localhost:8080/",
     "height": 35
    },
    "id": "1bXhivGZ4GeL",
    "outputId": "ca8f38f2-0afc-40f1-b719-c4c3ebce155b"
   },
   "outputs": [
    {
     "data": {
      "application/vnd.google.colaboratory.intrinsic+json": {
       "type": "string"
      },
      "text/plain": [
       "'\\tcapita\\n'"
      ]
     },
     "execution_count": 10,
     "metadata": {
      "tags": []
     },
     "output_type": "execute_result"
    }
   ],
   "source": [
    "target_texts[100]"
   ]
  },
  {
   "cell_type": "code",
   "execution_count": 11,
   "metadata": {
    "colab": {
     "base_uri": "https://localhost:8080/"
    },
    "id": "RphC5q0E4GeM",
    "outputId": "cc87ba92-c76c-435c-d4c7-e5452cca7c6d"
   },
   "outputs": [
    {
     "data": {
      "text/plain": [
       "array([ 6, 14,  3, 17,  4,  8,  3,  7,  0,  0,  0,  0,  0,  0,  0,  0,  0,\n",
       "        0,  0,  0,  0,  0,  0,  0,  0,  0,  0,  0,  0,  0,  0,  0,  0,  0,\n",
       "        0,  0,  0,  0,  0,  0,  0], dtype=int32)"
      ]
     },
     "execution_count": 11,
     "metadata": {
      "tags": []
     },
     "output_type": "execute_result"
    }
   ],
   "source": [
    "decoder_input_seq[100, :]"
   ]
  },
  {
   "cell_type": "markdown",
   "metadata": {
    "id": "1r_8kprp4GeM"
   },
   "source": [
    "## 2.2. One-hot encode\n",
    "\n",
    "- Input: A list of $n$ sentences (with max length $t$).\n",
    "- It is represented by a $n\\times t$ matrix after the tokenization and zero-padding.\n",
    "- It is represented by a $n\\times t \\times v$ tensor ($t$ is the number of unique chars) after the one-hot encoding."
   ]
  },
  {
   "cell_type": "code",
   "execution_count": 12,
   "metadata": {
    "colab": {
     "base_uri": "https://localhost:8080/"
    },
    "id": "GunMrwFA4GeM",
    "outputId": "a62020e2-3176-474f-f4f7-34c0c93637ef"
   },
   "outputs": [
    {
     "name": "stdout",
     "output_type": "stream",
     "text": [
      "(20000, 14, 28)\n",
      "(20000, 41, 30)\n"
     ]
    }
   ],
   "source": [
    "from keras.utils import to_categorical\n",
    "\n",
    "# one hot encode target sequence\n",
    "def onehot_encode(sequences, max_len, vocab_size):\n",
    "    n = len(sequences)\n",
    "    data = numpy.zeros((n, max_len, vocab_size))\n",
    "    for i in range(n):\n",
    "        data[i, :, :] = to_categorical(sequences[i], num_classes=vocab_size)\n",
    "    return data\n",
    "\n",
    "encoder_input_data = onehot_encode(encoder_input_seq, max_encoder_seq_length, num_encoder_tokens)\n",
    "decoder_input_data = onehot_encode(decoder_input_seq, max_decoder_seq_length, num_decoder_tokens)\n",
    "\n",
    "decoder_target_seq = numpy.zeros(decoder_input_seq.shape)\n",
    "decoder_target_seq[:, 0:-1] = decoder_input_seq[:, 1:]\n",
    "decoder_target_data = onehot_encode(decoder_target_seq, \n",
    "                                    max_decoder_seq_length, \n",
    "                                    num_decoder_tokens)\n",
    "\n",
    "print(encoder_input_data.shape)\n",
    "print(decoder_input_data.shape)"
   ]
  },
  {
   "cell_type": "markdown",
   "metadata": {
    "id": "hcbcJvZH4GeN"
   },
   "source": [
    "## 3. Build the networks (for training)\n",
    "\n",
    "- Build encoder, decoder, and connect the two modules to get \"model\". \n",
    "\n",
    "- Fit the model on the bilingual data to train the parameters in the encoder and decoder."
   ]
  },
  {
   "cell_type": "markdown",
   "metadata": {
    "id": "skwW45wE4GeN"
   },
   "source": [
    "### 3.1. Encoder network\n",
    "\n",
    "- Input:  one-hot encode of the input language\n",
    "\n",
    "- Return: \n",
    "\n",
    "    -- output (all the hidden states   $h_1, \\cdots , h_t$) are always discarded\n",
    "    \n",
    "    -- the final hidden state  $h_t$\n",
    "    \n",
    "    -- the final conveyor belt $c_t$"
   ]
  },
  {
   "cell_type": "code",
   "execution_count": 13,
   "metadata": {
    "colab": {
     "base_uri": "https://localhost:8080/"
    },
    "id": "C2pyHnKG4GeO",
    "outputId": "ee9aa8ee-cc72-4efb-9767-3e095009789b"
   },
   "outputs": [
    {
     "name": "stdout",
     "output_type": "stream",
     "text": [
      "Model: \"encoder\"\n",
      "__________________________________________________________________________________________________\n",
      "Layer (type)                    Output Shape         Param #     Connected to                     \n",
      "==================================================================================================\n",
      "encoder_inputs (InputLayer)     [(None, None, 28)]   0                                            \n",
      "__________________________________________________________________________________________________\n",
      "bidirectional (Bidirectional)   [(None, 512), (None, 583680      encoder_inputs[0][0]             \n",
      "__________________________________________________________________________________________________\n",
      "concatenate (Concatenate)       (None, 512)          0           bidirectional[0][1]              \n",
      "                                                                 bidirectional[0][3]              \n",
      "__________________________________________________________________________________________________\n",
      "concatenate_1 (Concatenate)     (None, 512)          0           bidirectional[0][2]              \n",
      "                                                                 bidirectional[0][4]              \n",
      "==================================================================================================\n",
      "Total params: 583,680\n",
      "Trainable params: 583,680\n",
      "Non-trainable params: 0\n",
      "__________________________________________________________________________________________________\n"
     ]
    }
   ],
   "source": [
    "# [1], [2]\n",
    "\n",
    "from keras.layers import Input, LSTM\n",
    "from keras.models import Model\n",
    "from keras.layers import Bidirectional, Concatenate\n",
    "\n",
    "latent_dim = 256\n",
    "\n",
    "# inputs of the encoder network\n",
    "encoder_inputs = Input(shape=(None, num_encoder_tokens), \n",
    "                       name='encoder_inputs')\n",
    "\n",
    "# # set the LSTM layer\n",
    "# encoder_lstm = LSTM(latent_dim, return_state=True, \n",
    "#                     dropout=0.5, name='encoder_lstm')\n",
    "# _, state_h, state_c = encoder_lstm(encoder_inputs)\n",
    "\n",
    "\n",
    "lstm_model = LSTM(latent_dim, return_state=True, dropout=0.5, name='encoder_lstm')\n",
    "encoder_bilstm = Bidirectional(lstm_model)\n",
    "encoder_results = encoder_bilstm(encoder_inputs)\n",
    "\n",
    "forward_h = encoder_results[1]\n",
    "forward_c = encoder_results[2]\n",
    "backward_h = encoder_results[3]\n",
    "backward_c =encoder_results[4]\n",
    "\n",
    "# build the encoder network model\n",
    "encoder_model = Model(inputs=encoder_inputs, \n",
    "                      outputs=[\n",
    "                               Concatenate()([forward_h, backward_h]),\n",
    "                               Concatenate()([forward_c, backward_c])\n",
    "                               ],\n",
    "                      name='encoder')\n",
    "\n",
    "encoder_model.summary()"
   ]
  },
  {
   "cell_type": "markdown",
   "metadata": {
    "id": "ijp7E6KY4GeP"
   },
   "source": [
    "Print a summary and save the encoder network structure to \"./encoder.pdf\""
   ]
  },
  {
   "cell_type": "code",
   "execution_count": 14,
   "metadata": {
    "colab": {
     "base_uri": "https://localhost:8080/"
    },
    "id": "2wK1fMyB4GeP",
    "outputId": "109303b3-a86f-4845-8c2d-fd077c5622ad"
   },
   "outputs": [
    {
     "name": "stdout",
     "output_type": "stream",
     "text": [
      "Model: \"encoder\"\n",
      "__________________________________________________________________________________________________\n",
      "Layer (type)                    Output Shape         Param #     Connected to                     \n",
      "==================================================================================================\n",
      "encoder_inputs (InputLayer)     [(None, None, 28)]   0                                            \n",
      "__________________________________________________________________________________________________\n",
      "bidirectional (Bidirectional)   [(None, 512), (None, 583680      encoder_inputs[0][0]             \n",
      "__________________________________________________________________________________________________\n",
      "concatenate (Concatenate)       (None, 512)          0           bidirectional[0][1]              \n",
      "                                                                 bidirectional[0][3]              \n",
      "__________________________________________________________________________________________________\n",
      "concatenate_1 (Concatenate)     (None, 512)          0           bidirectional[0][2]              \n",
      "                                                                 bidirectional[0][4]              \n",
      "==================================================================================================\n",
      "Total params: 583,680\n",
      "Trainable params: 583,680\n",
      "Non-trainable params: 0\n",
      "__________________________________________________________________________________________________\n"
     ]
    }
   ],
   "source": [
    "from IPython.display import SVG\n",
    "from keras.utils.vis_utils import model_to_dot, plot_model\n",
    "\n",
    "SVG(model_to_dot(encoder_model, show_shapes=False).create(prog='dot', format='svg'))\n",
    "\n",
    "plot_model(\n",
    "    model=encoder_model, show_shapes=False,\n",
    "    to_file='encoder.pdf'\n",
    ")\n",
    "\n",
    "encoder_model.summary()"
   ]
  },
  {
   "cell_type": "markdown",
   "metadata": {
    "id": "0CS5lGu-4GeP"
   },
   "source": [
    "### 3.2. Decoder network\n",
    "\n",
    "- Inputs:  \n",
    "\n",
    "    -- one-hot encode of the target language\n",
    "    \n",
    "    -- The initial hidden state $h_t$ \n",
    "    \n",
    "    -- The initial conveyor belt $c_t$ \n",
    "\n",
    "- Return: \n",
    "\n",
    "    -- output (all the hidden states) $h_1, \\cdots , h_t$\n",
    "\n",
    "    -- the final hidden state  $h_t$ (discarded in the training and used in the prediction)\n",
    "    \n",
    "    -- the final conveyor belt $c_t$ (discarded in the training and used in the prediction)"
   ]
  },
  {
   "cell_type": "code",
   "execution_count": 15,
   "metadata": {
    "colab": {
     "base_uri": "https://localhost:8080/"
    },
    "id": "NPfdKvDV4GeQ",
    "outputId": "cfb4682a-2b47-48b5-bb85-39ffaa795281"
   },
   "outputs": [
    {
     "name": "stdout",
     "output_type": "stream",
     "text": [
      "Model: \"decoder\"\n",
      "__________________________________________________________________________________________________\n",
      "Layer (type)                    Output Shape         Param #     Connected to                     \n",
      "==================================================================================================\n",
      "decoder_input_x (InputLayer)    [(None, None, 30)]   0                                            \n",
      "__________________________________________________________________________________________________\n",
      "decoder_input_h (InputLayer)    [(None, 512)]        0                                            \n",
      "__________________________________________________________________________________________________\n",
      "decoder_input_c (InputLayer)    [(None, 512)]        0                                            \n",
      "__________________________________________________________________________________________________\n",
      "decoder_lstm (LSTM)             [(None, None, 512),  1112064     decoder_input_x[0][0]            \n",
      "                                                                 decoder_input_h[0][0]            \n",
      "                                                                 decoder_input_c[0][0]            \n",
      "__________________________________________________________________________________________________\n",
      "decoder_dense (Dense)           (None, None, 30)     15390       decoder_lstm[0][0]               \n",
      "==================================================================================================\n",
      "Total params: 1,127,454\n",
      "Trainable params: 1,127,454\n",
      "Non-trainable params: 0\n",
      "__________________________________________________________________________________________________\n"
     ]
    }
   ],
   "source": [
    "# [1],[2]\n",
    "from keras.layers import Input, LSTM, Dense\n",
    "from keras.models import Model\n",
    "\n",
    "# inputs of the decoder network\n",
    "decoder_dim = latent_dim * 2\n",
    "decoder_input_h = Input(shape=(decoder_dim,), name='decoder_input_h')\n",
    "decoder_input_c = Input(shape=(decoder_dim,), name='decoder_input_c')\n",
    "decoder_input_x = Input(shape=(None, num_decoder_tokens), name='decoder_input_x')\n",
    "\n",
    "# set the LSTM layer\n",
    "decoder_lstm = LSTM(decoder_dim, return_sequences=True, \n",
    "                    return_state=True, dropout=0.5, name='decoder_lstm')\n",
    "# decoder_lstm_outputs, state_h, state_c \n",
    "decoder_results = decoder_lstm(decoder_input_x, initial_state=[decoder_input_h, decoder_input_c])\n",
    "\n",
    "# set the dense layer\n",
    "decoder_dense = Dense(num_decoder_tokens, activation='softmax', name='decoder_dense')\n",
    "decoder_outputs = decoder_dense(decoder_results[0])\n",
    "\n",
    "# build the decoder network model\n",
    "decoder_model = Model(inputs=[decoder_input_x, decoder_input_h, decoder_input_c],\n",
    "                      outputs=[decoder_outputs, decoder_results[1], decoder_results[2]],\n",
    "                      name='decoder')\n",
    "decoder_model.summary()"
   ]
  },
  {
   "cell_type": "markdown",
   "metadata": {
    "id": "flvFvVeS4GeR"
   },
   "source": [
    "Print a summary and save the encoder network structure to \"./decoder.pdf\""
   ]
  },
  {
   "cell_type": "code",
   "execution_count": 16,
   "metadata": {
    "colab": {
     "base_uri": "https://localhost:8080/"
    },
    "id": "0djq925y4GeR",
    "outputId": "2d49ab7e-d98c-44ee-b891-539b81a05517"
   },
   "outputs": [
    {
     "name": "stdout",
     "output_type": "stream",
     "text": [
      "Model: \"decoder\"\n",
      "__________________________________________________________________________________________________\n",
      "Layer (type)                    Output Shape         Param #     Connected to                     \n",
      "==================================================================================================\n",
      "decoder_input_x (InputLayer)    [(None, None, 30)]   0                                            \n",
      "__________________________________________________________________________________________________\n",
      "decoder_input_h (InputLayer)    [(None, 512)]        0                                            \n",
      "__________________________________________________________________________________________________\n",
      "decoder_input_c (InputLayer)    [(None, 512)]        0                                            \n",
      "__________________________________________________________________________________________________\n",
      "decoder_lstm (LSTM)             [(None, None, 512),  1112064     decoder_input_x[0][0]            \n",
      "                                                                 decoder_input_h[0][0]            \n",
      "                                                                 decoder_input_c[0][0]            \n",
      "__________________________________________________________________________________________________\n",
      "decoder_dense (Dense)           (None, None, 30)     15390       decoder_lstm[0][0]               \n",
      "==================================================================================================\n",
      "Total params: 1,127,454\n",
      "Trainable params: 1,127,454\n",
      "Non-trainable params: 0\n",
      "__________________________________________________________________________________________________\n"
     ]
    }
   ],
   "source": [
    "from IPython.display import SVG\n",
    "from keras.utils.vis_utils import model_to_dot, plot_model\n",
    "\n",
    "SVG(model_to_dot(decoder_model, show_shapes=False).create(prog='dot', format='svg'))\n",
    "\n",
    "plot_model(\n",
    "    model=decoder_model, show_shapes=False,\n",
    "    to_file='decoder.pdf'\n",
    ")\n",
    "\n",
    "decoder_model.summary()"
   ]
  },
  {
   "cell_type": "markdown",
   "metadata": {
    "id": "P11pJPvz4GeS"
   },
   "source": [
    "### 3.3. Connect the encoder and decoder"
   ]
  },
  {
   "cell_type": "code",
   "execution_count": 17,
   "metadata": {
    "id": "6tlPDE1p4GeS"
   },
   "outputs": [],
   "source": [
    "# input layers\n",
    "encoder_input_x = Input(shape=(None, num_encoder_tokens), name='encoder_input_x')\n",
    "decoder_input_x = Input(shape=(None, num_decoder_tokens), name='decoder_input_x')\n",
    "\n",
    "# connect encoder to decoder\n",
    "encoder_final_states = encoder_model([encoder_input_x])\n",
    "decoder_lstm_output, _, _ = decoder_lstm(decoder_input_x, initial_state=encoder_final_states)\n",
    "decoder_pred = decoder_dense(decoder_lstm_output)\n",
    "\n",
    "model = Model(inputs=[encoder_input_x, decoder_input_x], \n",
    "              outputs=decoder_pred, \n",
    "              name='model_training')"
   ]
  },
  {
   "cell_type": "code",
   "execution_count": 19,
   "metadata": {
    "colab": {
     "base_uri": "https://localhost:8080/"
    },
    "id": "3rPMpFyc4GeS",
    "outputId": "ee08f997-3731-4ce2-8c75-b7605cfe5451"
   },
   "outputs": [
    {
     "name": "stdout",
     "output_type": "stream",
     "text": [
      "KerasTensor(type_spec=TensorSpec(shape=(None, 512), dtype=tf.float32, name='decoder_input_h'), name='decoder_input_h', description=\"created by layer 'decoder_input_h'\")\n"
     ]
    }
   ],
   "source": [
    "print(decoder_input_h)"
   ]
  },
  {
   "cell_type": "code",
   "execution_count": 20,
   "metadata": {
    "colab": {
     "base_uri": "https://localhost:8080/"
    },
    "id": "17qhRARw4GeT",
    "outputId": "cbb126bf-bb2c-4a70-fef3-bba6c2835ad8"
   },
   "outputs": [
    {
     "name": "stdout",
     "output_type": "stream",
     "text": [
      "Model: \"model_training\"\n",
      "__________________________________________________________________________________________________\n",
      "Layer (type)                    Output Shape         Param #     Connected to                     \n",
      "==================================================================================================\n",
      "encoder_input_x (InputLayer)    [(None, None, 28)]   0                                            \n",
      "__________________________________________________________________________________________________\n",
      "decoder_input_x (InputLayer)    [(None, None, 30)]   0                                            \n",
      "__________________________________________________________________________________________________\n",
      "encoder (Functional)            [(None, 512), (None, 583680      encoder_input_x[0][0]            \n",
      "__________________________________________________________________________________________________\n",
      "decoder_lstm (LSTM)             [(None, None, 512),  1112064     decoder_input_x[0][0]            \n",
      "                                                                 encoder[0][0]                    \n",
      "                                                                 encoder[0][1]                    \n",
      "__________________________________________________________________________________________________\n",
      "decoder_dense (Dense)           (None, None, 30)     15390       decoder_lstm[1][0]               \n",
      "==================================================================================================\n",
      "Total params: 1,711,134\n",
      "Trainable params: 1,711,134\n",
      "Non-trainable params: 0\n",
      "__________________________________________________________________________________________________\n"
     ]
    }
   ],
   "source": [
    "from IPython.display import SVG\n",
    "from keras.utils.vis_utils import model_to_dot, plot_model\n",
    "\n",
    "SVG(model_to_dot(model, show_shapes=False).create(prog='dot', format='svg'))\n",
    "\n",
    "plot_model(\n",
    "    model=model, show_shapes=False,\n",
    "    to_file='model_training.pdf'\n",
    ")\n",
    "\n",
    "model.summary()"
   ]
  },
  {
   "cell_type": "markdown",
   "metadata": {
    "id": "GV5PdNkX4GeT"
   },
   "source": [
    "### 3.5. Fit the model on the bilingual dataset\n",
    "\n",
    "- encoder_input_data: one-hot encode of the input language\n",
    "\n",
    "- decoder_input_data: one-hot encode of the input language\n",
    "\n",
    "- decoder_target_data: labels (left shift of decoder_input_data)\n",
    "\n",
    "- tune the hyper-parameters\n",
    "\n",
    "- stop when the validation loss stop decreasing."
   ]
  },
  {
   "cell_type": "code",
   "execution_count": 21,
   "metadata": {
    "colab": {
     "base_uri": "https://localhost:8080/"
    },
    "id": "zmt_cX604GeT",
    "outputId": "7975d267-d1f1-4c36-a8ee-ae736b7c15aa"
   },
   "outputs": [
    {
     "name": "stdout",
     "output_type": "stream",
     "text": [
      "shape of encoder_input_data(20000, 14, 28)\n",
      "shape of decoder_input_data(20000, 41, 30)\n",
      "shape of decoder_target_data(20000, 41, 30)\n"
     ]
    }
   ],
   "source": [
    "print('shape of encoder_input_data' + str(encoder_input_data.shape))\n",
    "print('shape of decoder_input_data' + str(decoder_input_data.shape))\n",
    "print('shape of decoder_target_data' + str(decoder_target_data.shape))"
   ]
  },
  {
   "cell_type": "code",
   "execution_count": 22,
   "metadata": {
    "colab": {
     "base_uri": "https://localhost:8080/"
    },
    "id": "N436ayMr4GeU",
    "outputId": "116863b4-dea8-465e-c8d3-9751fb1219e9"
   },
   "outputs": [
    {
     "name": "stdout",
     "output_type": "stream",
     "text": [
      "Epoch 1/50\n",
      "250/250 [==============================] - 10s 19ms/step - loss: 1.3985 - val_loss: 0.9953\n",
      "Epoch 2/50\n",
      "250/250 [==============================] - 4s 15ms/step - loss: 0.8897 - val_loss: 0.8501\n",
      "Epoch 3/50\n",
      "250/250 [==============================] - 4s 15ms/step - loss: 0.8172 - val_loss: 0.7718\n",
      "Epoch 4/50\n",
      "250/250 [==============================] - 4s 15ms/step - loss: 0.7695 - val_loss: 0.7287\n",
      "Epoch 5/50\n",
      "250/250 [==============================] - 4s 15ms/step - loss: 0.7333 - val_loss: 0.6941\n",
      "Epoch 6/50\n",
      "250/250 [==============================] - 4s 15ms/step - loss: 0.6995 - val_loss: 0.6593\n",
      "Epoch 7/50\n",
      "250/250 [==============================] - 4s 15ms/step - loss: 0.6760 - val_loss: 0.6446\n",
      "Epoch 8/50\n",
      "250/250 [==============================] - 4s 15ms/step - loss: 0.6543 - val_loss: 0.6291\n",
      "Epoch 9/50\n",
      "250/250 [==============================] - 4s 15ms/step - loss: 0.6313 - val_loss: 0.6134\n",
      "Epoch 10/50\n",
      "250/250 [==============================] - 4s 15ms/step - loss: 0.6172 - val_loss: 0.6049\n",
      "Epoch 11/50\n",
      "250/250 [==============================] - 4s 15ms/step - loss: 0.6054 - val_loss: 0.5936\n",
      "Epoch 12/50\n",
      "250/250 [==============================] - 4s 15ms/step - loss: 0.5845 - val_loss: 0.5883\n",
      "Epoch 13/50\n",
      "250/250 [==============================] - 4s 15ms/step - loss: 0.5774 - val_loss: 0.5784\n",
      "Epoch 14/50\n",
      "250/250 [==============================] - 4s 15ms/step - loss: 0.5586 - val_loss: 0.5748\n",
      "Epoch 15/50\n",
      "250/250 [==============================] - 4s 15ms/step - loss: 0.5500 - val_loss: 0.5686\n",
      "Epoch 16/50\n",
      "250/250 [==============================] - 4s 15ms/step - loss: 0.5332 - val_loss: 0.5680\n",
      "Epoch 17/50\n",
      "250/250 [==============================] - 4s 15ms/step - loss: 0.5329 - val_loss: 0.5628\n",
      "Epoch 18/50\n",
      "250/250 [==============================] - 4s 15ms/step - loss: 0.5169 - val_loss: 0.5556\n",
      "Epoch 19/50\n",
      "250/250 [==============================] - 4s 15ms/step - loss: 0.5081 - val_loss: 0.5620\n",
      "Epoch 20/50\n",
      "250/250 [==============================] - 4s 15ms/step - loss: 0.5006 - val_loss: 0.5583\n",
      "Epoch 21/50\n",
      "250/250 [==============================] - 4s 15ms/step - loss: 0.4915 - val_loss: 0.5545\n",
      "Epoch 22/50\n",
      "250/250 [==============================] - 4s 15ms/step - loss: 0.4880 - val_loss: 0.5502\n",
      "Epoch 23/50\n",
      "250/250 [==============================] - 4s 15ms/step - loss: 0.4776 - val_loss: 0.5540\n",
      "Epoch 24/50\n",
      "250/250 [==============================] - 4s 15ms/step - loss: 0.4681 - val_loss: 0.5495\n",
      "Epoch 25/50\n",
      "250/250 [==============================] - 4s 15ms/step - loss: 0.4610 - val_loss: 0.5509\n",
      "Epoch 26/50\n",
      "250/250 [==============================] - 4s 15ms/step - loss: 0.4598 - val_loss: 0.5510\n",
      "Epoch 27/50\n",
      "250/250 [==============================] - 4s 15ms/step - loss: 0.4514 - val_loss: 0.5460\n",
      "Epoch 28/50\n",
      "250/250 [==============================] - 4s 15ms/step - loss: 0.4429 - val_loss: 0.5466\n",
      "Epoch 29/50\n",
      "250/250 [==============================] - 4s 15ms/step - loss: 0.4397 - val_loss: 0.5468\n",
      "Epoch 30/50\n",
      "250/250 [==============================] - 4s 15ms/step - loss: 0.4346 - val_loss: 0.5461\n",
      "Epoch 31/50\n",
      "250/250 [==============================] - 4s 15ms/step - loss: 0.4315 - val_loss: 0.5491\n",
      "Epoch 32/50\n",
      "250/250 [==============================] - 4s 15ms/step - loss: 0.4270 - val_loss: 0.5480\n",
      "Epoch 33/50\n",
      "250/250 [==============================] - 4s 15ms/step - loss: 0.4234 - val_loss: 0.5523\n",
      "Epoch 34/50\n",
      "250/250 [==============================] - 4s 15ms/step - loss: 0.4147 - val_loss: 0.5514\n",
      "Epoch 35/50\n",
      "250/250 [==============================] - 4s 15ms/step - loss: 0.4116 - val_loss: 0.5550\n",
      "Epoch 36/50\n",
      "250/250 [==============================] - 4s 15ms/step - loss: 0.4078 - val_loss: 0.5536\n",
      "Epoch 37/50\n",
      "250/250 [==============================] - 4s 15ms/step - loss: 0.4052 - val_loss: 0.5499\n",
      "Epoch 38/50\n",
      "250/250 [==============================] - 4s 15ms/step - loss: 0.3997 - val_loss: 0.5646\n",
      "Epoch 39/50\n",
      "250/250 [==============================] - 4s 15ms/step - loss: 0.3969 - val_loss: 0.5544\n",
      "Epoch 40/50\n",
      "250/250 [==============================] - 4s 15ms/step - loss: 0.3883 - val_loss: 0.5596\n",
      "Epoch 41/50\n",
      "250/250 [==============================] - 4s 15ms/step - loss: 0.3892 - val_loss: 0.5551\n",
      "Epoch 42/50\n",
      "250/250 [==============================] - 4s 15ms/step - loss: 0.3845 - val_loss: 0.5591\n",
      "Epoch 43/50\n",
      "250/250 [==============================] - 4s 15ms/step - loss: 0.3834 - val_loss: 0.5593\n",
      "Epoch 44/50\n",
      "250/250 [==============================] - 4s 15ms/step - loss: 0.3790 - val_loss: 0.5579\n",
      "Epoch 45/50\n",
      "250/250 [==============================] - 4s 15ms/step - loss: 0.3759 - val_loss: 0.5557\n",
      "Epoch 46/50\n",
      "250/250 [==============================] - 4s 15ms/step - loss: 0.3731 - val_loss: 0.5700\n",
      "Epoch 47/50\n",
      "250/250 [==============================] - 4s 15ms/step - loss: 0.3670 - val_loss: 0.5732\n",
      "Epoch 48/50\n",
      "250/250 [==============================] - 4s 15ms/step - loss: 0.3695 - val_loss: 0.5624\n",
      "Epoch 49/50\n",
      "250/250 [==============================] - 4s 15ms/step - loss: 0.3652 - val_loss: 0.5714\n",
      "Epoch 50/50\n",
      "250/250 [==============================] - 4s 15ms/step - loss: 0.3595 - val_loss: 0.5694\n"
     ]
    }
   ],
   "source": [
    "model.compile(optimizer='rmsprop', loss='categorical_crossentropy')\n",
    "\n",
    "model.fit([encoder_input_data, decoder_input_data],  # training data\n",
    "          decoder_target_data,                       # labels (left shift of the target sequences)\n",
    "          batch_size=64, epochs=50, validation_split=0.2)\n",
    "\n",
    "model.save('seq2seq.h5')"
   ]
  },
  {
   "cell_type": "markdown",
   "metadata": {
    "id": "TuYazSlZ4GeU"
   },
   "source": [
    "## 4. Make predictions\n",
    "\n",
    "\n",
    "### 4.1. Translate English to XXX\n",
    "\n",
    "1. Encoder read a sentence (source language) and output its final states, $h_t$ and $c_t$.\n",
    "2. Take the [star] sign \"\\t\" and the final state $h_t$ and $c_t$ as input and run the decoder.\n",
    "3. Get the new states and predicted probability distribution.\n",
    "4. sample a char from the predicted probability distribution\n",
    "5. take the sampled char and the new states as input and repeat the process (stop if reach the [stop] sign \"\\n\")."
   ]
  },
  {
   "cell_type": "code",
   "execution_count": 23,
   "metadata": {
    "id": "rahBq_Vr4GeV"
   },
   "outputs": [],
   "source": [
    "# Reverse-lookup token index to decode sequences back to something readable.\n",
    "reverse_input_char_index = dict((i, char) for char, i in input_token_index.items())\n",
    "reverse_target_char_index = dict((i, char) for char, i in target_token_index.items())"
   ]
  },
  {
   "cell_type": "code",
   "execution_count": 24,
   "metadata": {
    "id": "Gj13ogYG4GeV"
   },
   "outputs": [],
   "source": [
    "def decode_sequence(input_seq):\n",
    "    states_value = encoder_model.predict(input_seq)\n",
    "\n",
    "    target_seq = numpy.zeros((1, 1, num_decoder_tokens))\n",
    "    target_seq[0, 0, target_token_index['\\t']] = 1.\n",
    "\n",
    "    stop_condition = False\n",
    "    decoded_sentence = ''\n",
    "    while not stop_condition:\n",
    "        output_tokens, h, c = decoder_model.predict([target_seq] + states_value)\n",
    "\n",
    "        # this line of code is greedy selection\n",
    "        # try to use multinomial sampling instead (with temperature)\n",
    "        sampled_token_index = numpy.argmax(output_tokens[0, -1, :])\n",
    "        \n",
    "        sampled_char = reverse_target_char_index[sampled_token_index]\n",
    "        decoded_sentence += sampled_char\n",
    "\n",
    "        if (sampled_char == '\\n' or\n",
    "           len(decoded_sentence) > max_decoder_seq_length):\n",
    "            stop_condition = True\n",
    "\n",
    "        target_seq = numpy.zeros((1, 1, num_decoder_tokens))\n",
    "        target_seq[0, 0, sampled_token_index] = 1.\n",
    "\n",
    "        states_value = [h, c]\n",
    "\n",
    "    return decoded_sentence\n"
   ]
  },
  {
   "cell_type": "code",
   "execution_count": 25,
   "metadata": {
    "colab": {
     "base_uri": "https://localhost:8080/"
    },
    "id": "O_ShvYHK4GeV",
    "outputId": "12aa76a7-a482-4210-b309-ffbf4e709772"
   },
   "outputs": [
    {
     "name": "stdout",
     "output_type": "stream",
     "text": [
      "-\n",
      "English:        stay calm\n",
      "Italian (true):  stia calma\n",
      "Italian (pred):  state calme\n",
      "-\n",
      "English:        stay calm\n",
      "Italian (true):  state calmi\n",
      "Italian (pred):  state calme\n",
      "-\n",
      "English:        stay calm\n",
      "Italian (true):  state calme\n",
      "Italian (pred):  state calme\n",
      "-\n",
      "English:        stay cool\n",
      "Italian (true):  mantieni la calma\n",
      "Italian (pred):  state colme\n",
      "-\n",
      "English:        stay cool\n",
      "Italian (true):  mantenete la calma\n",
      "Italian (pred):  state colme\n",
      "-\n",
      "English:        stay down\n",
      "Italian (true):  stai giu\n",
      "Italian (pred):  state giu\n",
      "-\n",
      "English:        stay down\n",
      "Italian (true):  state giu\n",
      "Italian (pred):  state giu\n",
      "-\n",
      "English:        stay down\n",
      "Italian (true):  stia giu\n",
      "Italian (pred):  state giu\n",
      "-\n",
      "English:        stay here\n",
      "Italian (true):  stai qui\n",
      "Italian (pred):  state qui\n",
      "-\n",
      "English:        stay here\n",
      "Italian (true):  state qui\n",
      "Italian (pred):  state qui\n",
      "-\n",
      "English:        stay here\n",
      "Italian (true):  stia qui\n",
      "Italian (pred):  state qui\n",
      "-\n",
      "English:        stay home\n",
      "Italian (true):  state a casa\n",
      "Italian (pred):  state con te\n",
      "-\n",
      "English:        step back\n",
      "Italian (true):  fai un passo indietro\n",
      "Italian (pred):  fate un passo indietro\n",
      "-\n",
      "English:        step back\n",
      "Italian (true):  fate un passo indietro\n",
      "Italian (pred):  fate un passo indietro\n",
      "-\n",
      "English:        step back\n",
      "Italian (true):  faccia un passo indietro\n",
      "Italian (pred):  fate un passo indietro\n",
      "-\n",
      "English:        stop here\n",
      "Italian (true):  fermati qui\n",
      "Italian (pred):  fermatevi qua\n",
      "-\n",
      "English:        stop here\n",
      "Italian (true):  si fermi qui\n",
      "Italian (pred):  fermatevi qua\n",
      "-\n",
      "English:        stop here\n",
      "Italian (true):  fermatevi qui\n",
      "Italian (pred):  fermatevi qua\n",
      "-\n",
      "English:        stop here\n",
      "Italian (true):  fermati qua\n",
      "Italian (pred):  fermatevi qua\n",
      "-\n",
      "English:        stop here\n",
      "Italian (true):  si fermi qua\n",
      "Italian (pred):  fermatevi qua\n"
     ]
    }
   ],
   "source": [
    "for seq_index in range(2100, 2120):\n",
    "    # Take one sequence (part of the training set)\n",
    "    # for trying out decoding.\n",
    "    input_seq = encoder_input_data[seq_index: seq_index + 1]\n",
    "    decoded_sentence = decode_sequence(input_seq)\n",
    "    print('-')\n",
    "    print('English:       ', input_texts[seq_index])\n",
    "    print('Italian (true): ', target_texts[seq_index][1:-1])\n",
    "    print('Italian (pred): ', decoded_sentence[0:-1])"
   ]
  },
  {
   "cell_type": "markdown",
   "metadata": {
    "id": "ZKNhuQAI4GeW"
   },
   "source": [
    "### 4.2. Translate an English sentence to the target language\n",
    "\n",
    "1. Tokenization\n",
    "2. One-hot encode\n",
    "3. Translate"
   ]
  },
  {
   "cell_type": "code",
   "execution_count": 26,
   "metadata": {
    "colab": {
     "base_uri": "https://localhost:8080/"
    },
    "id": "fVjtoCXe4GeW",
    "outputId": "048b39c1-866f-4eb5-ffa5-ff0d3dc6ece4"
   },
   "outputs": [
    {
     "name": "stdout",
     "output_type": "stream",
     "text": [
      "source sentence is: I love you\n",
      "translated sentence is (Italian): ho anco\n",
      "\n"
     ]
    }
   ],
   "source": [
    "input_sentence = 'I love you'\n",
    "\n",
    "input_sequence = text2sequences(max_encoder_seq_length, input_sentence)[0]\n",
    "\n",
    "input_x = onehot_encode(input_sequence, max_encoder_seq_length, num_encoder_tokens)\n",
    "\n",
    "translated_sentence = decode_sequence(input_x[0:1])\n",
    "\n",
    "print('source sentence is: ' + input_sentence)\n",
    "print('translated sentence is (Italian): ' + translated_sentence)\n",
    "\n"
   ]
  },
  {
   "cell_type": "markdown",
   "metadata": {
    "id": "kJ-zKcnY4GeX"
   },
   "source": [
    "\n",
    "## 5. Evaluate the translation using BLEU score\n",
    "\n",
    "Reference: \n",
    "- https://machinelearningmastery.com/calculate-bleu-score-for-text-python/\n",
    "- https://en.wikipedia.org/wiki/BLEU\n",
    "\n",
    "\n",
    "**Hint:** \n",
    "\n",
    "- Randomly partition the dataset to training, validation, and test. \n",
    "\n",
    "- Evaluate the BLEU score using the test set. Report the average.\n",
    "\n",
    "- A reasonable BLEU score should be 0.1 ~ 0.5."
   ]
  },
  {
   "cell_type": "code",
   "execution_count": 27,
   "metadata": {
    "id": "U3gYZqMQ4GeX"
   },
   "outputs": [],
   "source": [
    "cleaned_data = clean_data(pairs)[n_train: n_train + 2000]\n",
    "input_test_texts, target_test_texts = cleaned_data[:, 0], cleaned_data[:, 1]"
   ]
  },
  {
   "cell_type": "code",
   "execution_count": 28,
   "metadata": {
    "colab": {
     "base_uri": "https://localhost:8080/"
    },
    "id": "s8j_KPJZ7S9u",
    "outputId": "49ea26f3-20c9-46eb-8839-0f019897dc09"
   },
   "outputs": [
    {
     "name": "stdout",
     "output_type": "stream",
     "text": [
      "2000 2000\n",
      "[im so excited] => [sono cosi emozionato]\n"
     ]
    }
   ],
   "source": [
    "print(len(input_test_texts), len(target_test_texts))\n",
    "print(\"[{0}] => [{1}]\".format(input_test_texts[0], target_test_texts[0]))"
   ]
  },
  {
   "cell_type": "code",
   "execution_count": 29,
   "metadata": {
    "colab": {
     "base_uri": "https://localhost:8080/"
    },
    "id": "JLVAdH047USZ",
    "outputId": "0a5d8286-c512-42dd-d250-5cae117b0bf5"
   },
   "outputs": [
    {
     "name": "stderr",
     "output_type": "stream",
     "text": [
      "/usr/local/lib/python3.7/dist-packages/nltk/translate/bleu_score.py:490: UserWarning: \n",
      "Corpus/Sentence contains 0 counts of 2-gram overlaps.\n",
      "BLEU scores might be undesirable; use SmoothingFunction().\n",
      "  warnings.warn(_msg)\n"
     ]
    },
    {
     "name": "stdout",
     "output_type": "stream",
     "text": [
      "Average BLEU score 0.143\n"
     ]
    }
   ],
   "source": [
    "# [3], [4]\n",
    "from nltk.translate.bleu_score import sentence_bleu\n",
    "score = 0\n",
    "for i, input_sentence in enumerate(input_test_texts):\n",
    "  input_sequence,_ = text2sequences(len(input_sentence), input_sentence)\n",
    "  input_x = onehot_encode(input_sequence, len(input_sentence), num_encoder_tokens)\n",
    "  translated_sentence = decode_sequence(input_x[0:1])\n",
    "  reference = translated_sentence.split()\n",
    "  candidate = target_test_texts[i].split()\n",
    "  s = sentence_bleu(reference, candidate)\n",
    "  score += s\n",
    "  # print(\"Ground truth {0}\\nPredicted {1}\\n BLEU score {2:.3f}\\n\\n\".format(candidate, reference, s))  \n",
    "print(\"Average BLEU score {0:.3f}\".format(score / len(input_test_texts)))\n"
   ]
  },
  {
   "cell_type": "code",
   "execution_count": null,
   "metadata": {
    "id": "plCvv7APHSl7"
   },
   "outputs": [],
   "source": [
    "#  References & citations\n",
    "# [1] -- https://github.com/compmonk/CS583/tree/master/Homework4\n",
    "# [2] -- https://github.com/themalavshastri/CS583_Deep-Learning\n",
    "# [3] -- https://machinelearningmastery.com/calculate-bleu-score-for-text-python/\n",
    "# [4] -- https://en.wikipedia.org/wiki/BLEU\n",
    "# [5] -- https://medium.com/analytics-vidhya/building-a-text-classification-model-using-bilstm-c0548ace26f2"
   ]
  }
 ],
 "metadata": {
  "accelerator": "GPU",
  "colab": {
   "collapsed_sections": [],
   "name": "HM5.ipynb",
   "provenance": []
  },
  "kernelspec": {
   "display_name": "Python 3",
   "language": "python",
   "name": "python3"
  },
  "language_info": {
   "codemirror_mode": {
    "name": "ipython",
    "version": 3
   },
   "file_extension": ".py",
   "mimetype": "text/x-python",
   "name": "python",
   "nbconvert_exporter": "python",
   "pygments_lexer": "ipython3",
   "version": "3.7.3"
  }
 },
 "nbformat": 4,
 "nbformat_minor": 1
}
