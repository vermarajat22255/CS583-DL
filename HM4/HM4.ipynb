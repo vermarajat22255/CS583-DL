{
  "nbformat": 4,
  "nbformat_minor": 0,
  "metadata": {
    "kernelspec": {
      "display_name": "Python 3",
      "language": "python",
      "name": "python3"
    },
    "language_info": {
      "codemirror_mode": {
        "name": "ipython",
        "version": 3
      },
      "file_extension": ".py",
      "mimetype": "text/x-python",
      "name": "python",
      "nbconvert_exporter": "python",
      "pygments_lexer": "ipython3",
      "version": "3.7.3"
    },
    "colab": {
      "name": "HM4.ipynb",
      "provenance": [],
      "collapsed_sections": []
    },
    "accelerator": "GPU"
  },
  "cells": [
    {
      "cell_type": "markdown",
      "metadata": {
        "id": "2B5Pas187VPQ"
      },
      "source": [
        "# Home 3: Build a CNN for image recognition.\n",
        "\n",
        "### Name: [Rajat Verma]\n"
      ]
    },
    {
      "cell_type": "markdown",
      "metadata": {
        "id": "82UKLYqi7VPT"
      },
      "source": [
        "## 0. You will do the following:\n",
        "\n",
        "1. Read, complete, and run the code.\n",
        "\n",
        "2. **Make substantial improvements** to maximize the accurcy.\n",
        "    \n",
        "3. Convert the .IPYNB file to .HTML file.\n",
        "\n",
        "    * The HTML file must contain the code and the output after execution.\n",
        "    \n",
        "    \n",
        "4. Upload this .HTML file to your Google Drive, Dropbox, or Github repo.\n",
        "\n",
        "4. Submit the link to this .HTML file to Canvas.\n",
        "\n",
        "    * Example: https://github.com/wangshusen/CS583-2019F/blob/master/homework/HM3/HM3.html\n",
        "\n",
        "\n",
        "## Requirements:\n",
        "\n",
        "1. You can use whatever CNN architecture, including VGG, Inception, and ResNet. However, you must build the networks layer by layer. You must NOT import the archetectures from ```keras.applications```.\n",
        "\n",
        "2. Make sure ```BatchNormalization``` is between a ```Conv```/```Dense``` layer and an ```activation``` layer.\n",
        "\n",
        "3. If you want to regularize a ```Conv```/```Dense``` layer, you should place a ```Dropout``` layer **before** the ```Conv```/```Dense``` layer.\n",
        "\n",
        "4. An accuracy above 70% is considered reasonable. An accuracy above 80% is considered good. Without data augmentation, achieving 80% accuracy is difficult.\n",
        "\n",
        "\n",
        "## Google Colab\n",
        "\n",
        "- If you do not have GPU, the training of a CNN can be slow. Google Colab is a good option.\n",
        "\n",
        "- Keep in mind that you must download it as an IPYNB file and then use IPython Notebook to convert it to HTML.\n",
        "\n",
        "- Also keep in mind that the IPYNB and HTML files must contain the outputs. (Otherwise, the instructor will not be able to know the correctness and performance.) Do the followings to keep the outputs.\n",
        "\n",
        "- In Colab, go to ```Runtime``` --> ```Change runtime type``` --> Do NOT check ```Omit code cell output when saving this notebook```. In this way, the downloaded IPYNB file contains the outputs."
      ]
    },
    {
      "cell_type": "markdown",
      "metadata": {
        "id": "Di6GiGnV7VPW"
      },
      "source": [
        "## 1. Data preparation"
      ]
    },
    {
      "cell_type": "markdown",
      "metadata": {
        "id": "bTNDM1xm7VPX"
      },
      "source": [
        "### 1.1. Load data\n"
      ]
    },
    {
      "cell_type": "code",
      "metadata": {
        "colab": {
          "base_uri": "https://localhost:8080/"
        },
        "id": "1w6YBUhv7VPY",
        "outputId": "dbcb6238-745e-444a-9443-af56146e5f52"
      },
      "source": [
        "from keras.datasets import cifar10\n",
        "import numpy\n",
        "\n",
        "(x_train, y_train), (x_test, y_test) = cifar10.load_data()\n",
        "\n",
        "print('shape of x_train: ' + str(x_train.shape))\n",
        "print('shape of y_train: ' + str(y_train.shape))\n",
        "print('shape of x_test: ' + str(x_test.shape))\n",
        "print('shape of y_test: ' + str(y_test.shape))\n",
        "print('number of classes: ' + str(numpy.max(y_train) - numpy.min(y_train) + 1))"
      ],
      "execution_count": 1,
      "outputs": [
        {
          "output_type": "stream",
          "text": [
            "shape of x_train: (50000, 32, 32, 3)\n",
            "shape of y_train: (50000, 1)\n",
            "shape of x_test: (10000, 32, 32, 3)\n",
            "shape of y_test: (10000, 1)\n",
            "number of classes: 10\n"
          ],
          "name": "stdout"
        }
      ]
    },
    {
      "cell_type": "markdown",
      "metadata": {
        "id": "c8NhPztA7VPZ"
      },
      "source": [
        "### 1.2. One-hot encode the labels\n",
        "\n",
        "In the input, a label is a scalar in $\\{0, 1, \\cdots , 9\\}$. One-hot encode transform such a scalar to a $10$-dim vector. E.g., a scalar ```y_train[j]=3``` is transformed to the vector ```y_train_vec[j]=[0, 0, 0, 1, 0, 0, 0, 0, 0, 0]```.\n",
        "\n",
        "1. Define a function ```to_one_hot``` that transforms an $n\\times 1$ array to a $n\\times 10$ matrix.\n",
        "\n",
        "2. Apply the function to ```y_train``` and ```y_test```."
      ]
    },
    {
      "cell_type": "code",
      "metadata": {
        "colab": {
          "base_uri": "https://localhost:8080/"
        },
        "id": "CSiU5hDz7VPa",
        "outputId": "5c86f66d-84f0-4e94-ca97-122808c40c45"
      },
      "source": [
        "def to_one_hot(y, num_class=10):\n",
        "    result = numpy.zeros((len(y),num_class))\n",
        "    for i,y in enumerate(y):\n",
        "        result[i,y]=1\n",
        "    return result\n",
        "\n",
        "y_train_vec = to_one_hot(y_train)\n",
        "y_test_vec = to_one_hot(y_test)\n",
        "\n",
        "print('Shape of y_train_vec: ' + str(y_train_vec.shape))\n",
        "print('Shape of y_test_vec: ' + str(y_test_vec.shape))\n",
        "\n",
        "print(y_train[0])\n",
        "print(y_train_vec[0])"
      ],
      "execution_count": 2,
      "outputs": [
        {
          "output_type": "stream",
          "text": [
            "Shape of y_train_vec: (50000, 10)\n",
            "Shape of y_test_vec: (10000, 10)\n",
            "[6]\n",
            "[0. 0. 0. 0. 0. 0. 1. 0. 0. 0.]\n"
          ],
          "name": "stdout"
        }
      ]
    },
    {
      "cell_type": "markdown",
      "metadata": {
        "id": "m3_EG0DR7VPb"
      },
      "source": [
        "#### Remark: the outputs should be\n",
        "* Shape of y_train_vec: (50000, 10)\n",
        "* Shape of y_test_vec: (10000, 10)\n",
        "* [6]\n",
        "* [0. 0. 0. 0. 0. 0. 1. 0. 0. 0.]"
      ]
    },
    {
      "cell_type": "markdown",
      "metadata": {
        "id": "3gHldK467VPc"
      },
      "source": [
        "### 1.3. Randomly partition the training set to training and validation sets\n",
        "\n",
        "Randomly partition the 50K training samples to 2 sets:\n",
        "* a training set containing 40K samples\n",
        "* a validation set containing 10K samples\n"
      ]
    },
    {
      "cell_type": "code",
      "metadata": {
        "colab": {
          "base_uri": "https://localhost:8080/"
        },
        "id": "OKzeAq3V7VPc",
        "outputId": "71c057bd-e803-4d9d-c779-d986558d8cd7"
      },
      "source": [
        "rand_indices = numpy.random.permutation(50000)\n",
        "train_indices = rand_indices[0:40000]\n",
        "valid_indices = rand_indices[40000:50000]\n",
        "\n",
        "x_val = x_train[valid_indices, :]\n",
        "y_val = y_train_vec[valid_indices, :]\n",
        "\n",
        "x_tr = x_train[train_indices, :]\n",
        "y_tr = y_train_vec[train_indices, :]\n",
        "\n",
        "print('Shape of x_tr: ' + str(x_tr.shape))\n",
        "print('Shape of y_tr: ' + str(y_tr.shape))\n",
        "print('Shape of x_val: ' + str(x_val.shape))\n",
        "print('Shape of y_val: ' + str(y_val.shape))"
      ],
      "execution_count": 3,
      "outputs": [
        {
          "output_type": "stream",
          "text": [
            "Shape of x_tr: (40000, 32, 32, 3)\n",
            "Shape of y_tr: (40000, 10)\n",
            "Shape of x_val: (10000, 32, 32, 3)\n",
            "Shape of y_val: (10000, 10)\n"
          ],
          "name": "stdout"
        }
      ]
    },
    {
      "cell_type": "markdown",
      "metadata": {
        "id": "PUiCD_IF7VPd"
      },
      "source": [
        "## 2. Build a CNN and tune its hyper-parameters\n",
        "\n",
        "1. Build a convolutional neural network model\n",
        "2. Use the validation data to tune the hyper-parameters (e.g., network structure, and optimization algorithm)\n",
        "    * Do NOT use test data for hyper-parameter tuning!!!\n",
        "3. Try to achieve a validation accuracy as high as possible."
      ]
    },
    {
      "cell_type": "markdown",
      "metadata": {
        "id": "g6lROQzY7VPe"
      },
      "source": [
        "### Remark: \n",
        "\n",
        "The following CNN is just an example. You are supposed to make **substantial improvements** such as:\n",
        "* Add more layers.\n",
        "* Use regularizations, e.g., dropout.\n",
        "* Use batch normalization."
      ]
    },
    {
      "cell_type": "code",
      "metadata": {
        "colab": {
          "base_uri": "https://localhost:8080/"
        },
        "id": "2lWJlEP37VPf",
        "outputId": "93cee227-06c4-4f0c-8aaf-9c19d042b4e4"
      },
      "source": [
        "from keras.layers import Conv2D, MaxPooling2D, Flatten, Dense, Dropout, Activation, BatchNormalization\n",
        "from keras.models import Sequential\n",
        "\n",
        "model = Sequential()\n",
        "model.add(Conv2D(32, (3, 3), padding='same', input_shape=(32, 32, 3)))\n",
        "model.add(BatchNormalization())\n",
        "model.add(Activation('relu'))\n",
        "\n",
        "model.add(Dropout(0.2)) \n",
        "model.add(Conv2D(32, (3, 3), padding='same'))\n",
        "model.add(BatchNormalization())\n",
        "model.add(Activation('relu'))\n",
        "model.add(MaxPooling2D((2, 2)))\n",
        "\n",
        "model.add(Dropout(0.2))  \n",
        "model.add(Conv2D(64, (3, 3), padding='same'))\n",
        "model.add(BatchNormalization())\n",
        "model.add(Activation('relu'))\n",
        "model.add(MaxPooling2D((2, 2)))\n",
        "\n",
        "model.add(Dropout(0.2)) \n",
        "model.add(Conv2D(128, (3, 3), padding='same'))\n",
        "model.add(BatchNormalization())\n",
        "model.add(Activation('relu'))\n",
        "model.add(MaxPooling2D((2, 2)))\n",
        "\n",
        "model.add(Dropout(0.2))\n",
        "model.add(Conv2D(256, (3, 3), padding='same'))\n",
        "model.add(BatchNormalization())\n",
        "model.add(Activation('relu'))\n",
        "model.add(MaxPooling2D((2, 2)))\n",
        "\n",
        "model.add(Flatten())\n",
        "model.add(Dropout(0.4))\n",
        "model.add(Dense(256, activation='relu'))\n",
        "model.add(Dense(10, activation='softmax'))\n",
        "\n",
        "model.summary()"
      ],
      "execution_count": 4,
      "outputs": [
        {
          "output_type": "stream",
          "text": [
            "Model: \"sequential\"\n",
            "_________________________________________________________________\n",
            "Layer (type)                 Output Shape              Param #   \n",
            "=================================================================\n",
            "conv2d (Conv2D)              (None, 32, 32, 32)        896       \n",
            "_________________________________________________________________\n",
            "batch_normalization (BatchNo (None, 32, 32, 32)        128       \n",
            "_________________________________________________________________\n",
            "activation (Activation)      (None, 32, 32, 32)        0         \n",
            "_________________________________________________________________\n",
            "dropout (Dropout)            (None, 32, 32, 32)        0         \n",
            "_________________________________________________________________\n",
            "conv2d_1 (Conv2D)            (None, 32, 32, 32)        9248      \n",
            "_________________________________________________________________\n",
            "batch_normalization_1 (Batch (None, 32, 32, 32)        128       \n",
            "_________________________________________________________________\n",
            "activation_1 (Activation)    (None, 32, 32, 32)        0         \n",
            "_________________________________________________________________\n",
            "max_pooling2d (MaxPooling2D) (None, 16, 16, 32)        0         \n",
            "_________________________________________________________________\n",
            "dropout_1 (Dropout)          (None, 16, 16, 32)        0         \n",
            "_________________________________________________________________\n",
            "conv2d_2 (Conv2D)            (None, 16, 16, 64)        18496     \n",
            "_________________________________________________________________\n",
            "batch_normalization_2 (Batch (None, 16, 16, 64)        256       \n",
            "_________________________________________________________________\n",
            "activation_2 (Activation)    (None, 16, 16, 64)        0         \n",
            "_________________________________________________________________\n",
            "max_pooling2d_1 (MaxPooling2 (None, 8, 8, 64)          0         \n",
            "_________________________________________________________________\n",
            "dropout_2 (Dropout)          (None, 8, 8, 64)          0         \n",
            "_________________________________________________________________\n",
            "conv2d_3 (Conv2D)            (None, 8, 8, 128)         73856     \n",
            "_________________________________________________________________\n",
            "batch_normalization_3 (Batch (None, 8, 8, 128)         512       \n",
            "_________________________________________________________________\n",
            "activation_3 (Activation)    (None, 8, 8, 128)         0         \n",
            "_________________________________________________________________\n",
            "max_pooling2d_2 (MaxPooling2 (None, 4, 4, 128)         0         \n",
            "_________________________________________________________________\n",
            "dropout_3 (Dropout)          (None, 4, 4, 128)         0         \n",
            "_________________________________________________________________\n",
            "conv2d_4 (Conv2D)            (None, 4, 4, 256)         295168    \n",
            "_________________________________________________________________\n",
            "batch_normalization_4 (Batch (None, 4, 4, 256)         1024      \n",
            "_________________________________________________________________\n",
            "activation_4 (Activation)    (None, 4, 4, 256)         0         \n",
            "_________________________________________________________________\n",
            "max_pooling2d_3 (MaxPooling2 (None, 2, 2, 256)         0         \n",
            "_________________________________________________________________\n",
            "flatten (Flatten)            (None, 1024)              0         \n",
            "_________________________________________________________________\n",
            "dropout_4 (Dropout)          (None, 1024)              0         \n",
            "_________________________________________________________________\n",
            "dense (Dense)                (None, 256)               262400    \n",
            "_________________________________________________________________\n",
            "dense_1 (Dense)              (None, 10)                2570      \n",
            "=================================================================\n",
            "Total params: 664,682\n",
            "Trainable params: 663,658\n",
            "Non-trainable params: 1,024\n",
            "_________________________________________________________________\n"
          ],
          "name": "stdout"
        }
      ]
    },
    {
      "cell_type": "code",
      "metadata": {
        "id": "poAA7atJ7VPf"
      },
      "source": [
        "from keras import optimizers\n",
        "\n",
        "learning_rate = 1E-3 # to be tuned!\n",
        "\n",
        "model.compile(loss='categorical_crossentropy',\n",
        "              optimizer=optimizers.RMSprop(lr=learning_rate),\n",
        "              metrics=['acc'])"
      ],
      "execution_count": 5,
      "outputs": []
    },
    {
      "cell_type": "code",
      "metadata": {
        "id": "aQBQH89O9adj"
      },
      "source": [
        "#Code to implement data augmentation\n",
        "# from keras.preprocessing.image import ImageDataGenerator\n",
        "# datagen = ImageDataGenerator(rotation_range=40, width_shift_range=0.2, height_shift_range=0.2, horizontal_flip=True)\n",
        "# it_train = datagen.flow(x_tr, y_tr, batch_size=128)\n",
        "# history = model.fit_generator(it_train, steps_per_epoch = int(x_tr.shape[0] / 128), epochs=40, validation_data=(x_val, y_val))"
      ],
      "execution_count": 6,
      "outputs": []
    },
    {
      "cell_type": "code",
      "metadata": {
        "colab": {
          "base_uri": "https://localhost:8080/"
        },
        "id": "JscpoTDy7VPg",
        "outputId": "a7d54b6d-c5a9-4253-baa3-a0b6f7213463"
      },
      "source": [
        "history = model.fit(x_tr, y_tr, batch_size=64, epochs=30, validation_data=(x_val, y_val))"
      ],
      "execution_count": 7,
      "outputs": [
        {
          "output_type": "stream",
          "text": [
            "Epoch 1/30\n",
            "625/625 [==============================] - 10s 10ms/step - loss: 2.0580 - acc: 0.3349 - val_loss: 1.8252 - val_acc: 0.4050\n",
            "Epoch 2/30\n",
            "625/625 [==============================] - 6s 9ms/step - loss: 1.2138 - acc: 0.5615 - val_loss: 1.4288 - val_acc: 0.5300\n",
            "Epoch 3/30\n",
            "625/625 [==============================] - 6s 9ms/step - loss: 1.0051 - acc: 0.6418 - val_loss: 1.1226 - val_acc: 0.6036\n",
            "Epoch 4/30\n",
            "625/625 [==============================] - 6s 9ms/step - loss: 0.8987 - acc: 0.6870 - val_loss: 0.8763 - val_acc: 0.6969\n",
            "Epoch 5/30\n",
            "625/625 [==============================] - 6s 9ms/step - loss: 0.8374 - acc: 0.7069 - val_loss: 0.7752 - val_acc: 0.7252\n",
            "Epoch 6/30\n",
            "625/625 [==============================] - 6s 9ms/step - loss: 0.7836 - acc: 0.7226 - val_loss: 0.7876 - val_acc: 0.7217\n",
            "Epoch 7/30\n",
            "625/625 [==============================] - 6s 9ms/step - loss: 0.7341 - acc: 0.7483 - val_loss: 0.8117 - val_acc: 0.7222\n",
            "Epoch 8/30\n",
            "625/625 [==============================] - 6s 9ms/step - loss: 0.7053 - acc: 0.7508 - val_loss: 0.7314 - val_acc: 0.7528\n",
            "Epoch 9/30\n",
            "625/625 [==============================] - 6s 9ms/step - loss: 0.6726 - acc: 0.7655 - val_loss: 0.6795 - val_acc: 0.7667\n",
            "Epoch 10/30\n",
            "625/625 [==============================] - 6s 9ms/step - loss: 0.6433 - acc: 0.7767 - val_loss: 1.0102 - val_acc: 0.6904\n",
            "Epoch 11/30\n",
            "625/625 [==============================] - 6s 9ms/step - loss: 0.6221 - acc: 0.7846 - val_loss: 0.6835 - val_acc: 0.7624\n",
            "Epoch 12/30\n",
            "625/625 [==============================] - 6s 9ms/step - loss: 0.6024 - acc: 0.7905 - val_loss: 0.7257 - val_acc: 0.7548\n",
            "Epoch 13/30\n",
            "625/625 [==============================] - 6s 9ms/step - loss: 0.5810 - acc: 0.7967 - val_loss: 0.5949 - val_acc: 0.7987\n",
            "Epoch 14/30\n",
            "625/625 [==============================] - 6s 9ms/step - loss: 0.5698 - acc: 0.8026 - val_loss: 0.5734 - val_acc: 0.8078\n",
            "Epoch 15/30\n",
            "625/625 [==============================] - 6s 9ms/step - loss: 0.5468 - acc: 0.8102 - val_loss: 0.5816 - val_acc: 0.8031\n",
            "Epoch 16/30\n",
            "625/625 [==============================] - 6s 9ms/step - loss: 0.5396 - acc: 0.8129 - val_loss: 0.5882 - val_acc: 0.7999\n",
            "Epoch 17/30\n",
            "625/625 [==============================] - 6s 9ms/step - loss: 0.5214 - acc: 0.8227 - val_loss: 0.6162 - val_acc: 0.7950\n",
            "Epoch 18/30\n",
            "625/625 [==============================] - 6s 9ms/step - loss: 0.5208 - acc: 0.8214 - val_loss: 0.5579 - val_acc: 0.8133\n",
            "Epoch 19/30\n",
            "625/625 [==============================] - 6s 9ms/step - loss: 0.4967 - acc: 0.8296 - val_loss: 0.6442 - val_acc: 0.7852\n",
            "Epoch 20/30\n",
            "625/625 [==============================] - 6s 9ms/step - loss: 0.4986 - acc: 0.8272 - val_loss: 0.6003 - val_acc: 0.7966\n",
            "Epoch 21/30\n",
            "625/625 [==============================] - 6s 9ms/step - loss: 0.4937 - acc: 0.8288 - val_loss: 0.6033 - val_acc: 0.7978\n",
            "Epoch 22/30\n",
            "625/625 [==============================] - 6s 9ms/step - loss: 0.4918 - acc: 0.8322 - val_loss: 0.5945 - val_acc: 0.7983\n",
            "Epoch 23/30\n",
            "625/625 [==============================] - 6s 9ms/step - loss: 0.4768 - acc: 0.8334 - val_loss: 0.6048 - val_acc: 0.7990\n",
            "Epoch 24/30\n",
            "625/625 [==============================] - 6s 9ms/step - loss: 0.4649 - acc: 0.8411 - val_loss: 0.5877 - val_acc: 0.8046\n",
            "Epoch 25/30\n",
            "625/625 [==============================] - 6s 9ms/step - loss: 0.4794 - acc: 0.8380 - val_loss: 0.7002 - val_acc: 0.7739\n",
            "Epoch 26/30\n",
            "625/625 [==============================] - 6s 9ms/step - loss: 0.4619 - acc: 0.8452 - val_loss: 0.6187 - val_acc: 0.8073\n",
            "Epoch 27/30\n",
            "625/625 [==============================] - 6s 10ms/step - loss: 0.4660 - acc: 0.8428 - val_loss: 0.5385 - val_acc: 0.8244\n",
            "Epoch 28/30\n",
            "625/625 [==============================] - 6s 10ms/step - loss: 0.4458 - acc: 0.8483 - val_loss: 0.5425 - val_acc: 0.8213\n",
            "Epoch 29/30\n",
            "625/625 [==============================] - 6s 9ms/step - loss: 0.4515 - acc: 0.8501 - val_loss: 0.5495 - val_acc: 0.8184\n",
            "Epoch 30/30\n",
            "625/625 [==============================] - 6s 9ms/step - loss: 0.4572 - acc: 0.8466 - val_loss: 0.6003 - val_acc: 0.8067\n"
          ],
          "name": "stdout"
        }
      ]
    },
    {
      "cell_type": "code",
      "metadata": {
        "colab": {
          "base_uri": "https://localhost:8080/",
          "height": 279
        },
        "id": "pDloXvv27VPg",
        "outputId": "3205423f-6f92-46b1-b5c2-fecd4a890c52"
      },
      "source": [
        "import matplotlib.pyplot as plt\n",
        "%matplotlib inline\n",
        "\n",
        "acc = history.history['acc']\n",
        "val_acc = history.history['val_acc']\n",
        "\n",
        "epochs = range(len(acc))\n",
        "\n",
        "plt.plot(epochs, acc, 'bo', label='Training acc')\n",
        "plt.plot(epochs, val_acc, 'r', label='Validation acc')\n",
        "plt.xlabel('Epochs')\n",
        "plt.ylabel('Accuracy')\n",
        "plt.legend()\n",
        "plt.show()"
      ],
      "execution_count": 8,
      "outputs": [
        {
          "output_type": "display_data",
          "data": {
            "image/png": "[encoded data removed]",
            "text/plain": [
              "<Figure size 432x288 with 1 Axes>"
            ]
          },
          "metadata": {
            "tags": [],
            "needs_background": "light"
          }
        }
      ]
    },
    {
      "cell_type": "markdown",
      "metadata": {
        "id": "kIzdN4yX7VPh"
      },
      "source": [
        "## 3. Train (again) and evaluate the model\n",
        "\n",
        "- To this end, you have found the \"best\" hyper-parameters. \n",
        "- Now, fix the hyper-parameters and train the network on the entire training set (all the 50K training samples)\n",
        "- Evaluate your model on the test set."
      ]
    },
    {
      "cell_type": "markdown",
      "metadata": {
        "id": "QY_vjRta7VPi"
      },
      "source": [
        "### 3.1. Train the model on the entire training set\n",
        "\n",
        "Why? Previously, you used 40K samples for training; you wasted 10K samples for the sake of hyper-parameter tuning. Now you already know the hyper-parameters, so why not using all the 50K samples for training?"
      ]
    },
    {
      "cell_type": "code",
      "metadata": {
        "id": "QD9nSIWF7VPj"
      },
      "source": [
        "# <Compile your model again (using the same hyper-parameters)>\n",
        "learning_rate = 1E-3 # to be tuned!\n",
        "\n",
        "model.compile(loss='categorical_crossentropy',\n",
        "              optimizer=optimizers.RMSprop(lr=learning_rate),\n",
        "              metrics=['acc'])"
      ],
      "execution_count": 9,
      "outputs": []
    },
    {
      "cell_type": "code",
      "metadata": {
        "colab": {
          "base_uri": "https://localhost:8080/"
        },
        "id": "wd4oWTxk7VPk",
        "outputId": "3f526f43-5bf4-446f-c803-31ff4fcc0538"
      },
      "source": [
        "# <Train your model on the entire training set (50K samples)>\n",
        "# <Use (x_train, y_train_vec) instead of (x_tr, y_tr)>\n",
        "# <Do NOT use the validation_data option (because now you do not have validation data)>\n",
        "history = model.fit(x_train, y_train_vec, batch_size=64, epochs=30)"
      ],
      "execution_count": 10,
      "outputs": [
        {
          "output_type": "stream",
          "text": [
            "Epoch 1/30\n",
            "782/782 [==============================] - 8s 9ms/step - loss: 0.5254 - acc: 0.8252\n",
            "Epoch 2/30\n",
            "782/782 [==============================] - 7s 9ms/step - loss: 0.5072 - acc: 0.8338\n",
            "Epoch 3/30\n",
            "782/782 [==============================] - 7s 9ms/step - loss: 0.4993 - acc: 0.8353\n",
            "Epoch 4/30\n",
            "782/782 [==============================] - 7s 9ms/step - loss: 0.5020 - acc: 0.8322\n",
            "Epoch 5/30\n",
            "782/782 [==============================] - 7s 9ms/step - loss: 0.5009 - acc: 0.8340\n",
            "Epoch 6/30\n",
            "782/782 [==============================] - 7s 9ms/step - loss: 0.4921 - acc: 0.8361\n",
            "Epoch 7/30\n",
            "782/782 [==============================] - 7s 9ms/step - loss: 0.4865 - acc: 0.8388\n",
            "Epoch 8/30\n",
            "782/782 [==============================] - 7s 9ms/step - loss: 0.4905 - acc: 0.8353\n",
            "Epoch 9/30\n",
            "782/782 [==============================] - 7s 9ms/step - loss: 0.4979 - acc: 0.8389\n",
            "Epoch 10/30\n",
            "782/782 [==============================] - 7s 9ms/step - loss: 0.4839 - acc: 0.8402\n",
            "Epoch 11/30\n",
            "782/782 [==============================] - 7s 9ms/step - loss: 0.4813 - acc: 0.8399\n",
            "Epoch 12/30\n",
            "782/782 [==============================] - 7s 9ms/step - loss: 0.4861 - acc: 0.8434\n",
            "Epoch 13/30\n",
            "782/782 [==============================] - 7s 9ms/step - loss: 0.4782 - acc: 0.8417\n",
            "Epoch 14/30\n",
            "782/782 [==============================] - 7s 9ms/step - loss: 0.4910 - acc: 0.8383\n",
            "Epoch 15/30\n",
            "782/782 [==============================] - 7s 9ms/step - loss: 0.4845 - acc: 0.8423\n",
            "Epoch 16/30\n",
            "782/782 [==============================] - 7s 9ms/step - loss: 0.4886 - acc: 0.8412\n",
            "Epoch 17/30\n",
            "782/782 [==============================] - 7s 9ms/step - loss: 0.4831 - acc: 0.8409\n",
            "Epoch 18/30\n",
            "782/782 [==============================] - 7s 9ms/step - loss: 0.4816 - acc: 0.8430\n",
            "Epoch 19/30\n",
            "782/782 [==============================] - 7s 9ms/step - loss: 0.4855 - acc: 0.8426\n",
            "Epoch 20/30\n",
            "782/782 [==============================] - 7s 9ms/step - loss: 0.4820 - acc: 0.8408\n",
            "Epoch 21/30\n",
            "782/782 [==============================] - 7s 9ms/step - loss: 0.4795 - acc: 0.8435\n",
            "Epoch 22/30\n",
            "782/782 [==============================] - 7s 9ms/step - loss: 0.4777 - acc: 0.8422\n",
            "Epoch 23/30\n",
            "782/782 [==============================] - 7s 9ms/step - loss: 0.4771 - acc: 0.8420\n",
            "Epoch 24/30\n",
            "782/782 [==============================] - 7s 9ms/step - loss: 0.4796 - acc: 0.8446\n",
            "Epoch 25/30\n",
            "782/782 [==============================] - 7s 9ms/step - loss: 0.4689 - acc: 0.8481\n",
            "Epoch 26/30\n",
            "782/782 [==============================] - 7s 9ms/step - loss: 0.4663 - acc: 0.8454\n",
            "Epoch 27/30\n",
            "782/782 [==============================] - 7s 9ms/step - loss: 0.4702 - acc: 0.8427\n",
            "Epoch 28/30\n",
            "782/782 [==============================] - 7s 9ms/step - loss: 0.4777 - acc: 0.8440\n",
            "Epoch 29/30\n",
            "782/782 [==============================] - 7s 9ms/step - loss: 0.4732 - acc: 0.8436\n",
            "Epoch 30/30\n",
            "782/782 [==============================] - 7s 9ms/step - loss: 0.4704 - acc: 0.8457\n"
          ],
          "name": "stdout"
        }
      ]
    },
    {
      "cell_type": "markdown",
      "metadata": {
        "id": "wXvkVML47VPk"
      },
      "source": [
        "### 3.2. Evaluate the model on the test set\n",
        "\n",
        "Do NOT used the test set until now. Make sure that your model parameters and hyper-parameters are independent of the test set."
      ]
    },
    {
      "cell_type": "code",
      "metadata": {
        "colab": {
          "base_uri": "https://localhost:8080/"
        },
        "id": "0Rg0QdnO7VPl",
        "outputId": "504f7cad-8fdc-43d3-8910-422995587608"
      },
      "source": [
        "loss_and_acc = model.evaluate(x_test, y_test_vec)\n",
        "print('loss = ' + str(loss_and_acc[0]))\n",
        "print('accuracy = ' + str(loss_and_acc[1]))"
      ],
      "execution_count": 11,
      "outputs": [
        {
          "output_type": "stream",
          "text": [
            "313/313 [==============================] - 1s 3ms/step - loss: 0.5741 - acc: 0.8196\n",
            "loss = 0.5740983486175537\n",
            "accuracy = 0.819599986076355\n"
          ],
          "name": "stdout"
        }
      ]
    },
    {
      "cell_type": "code",
      "metadata": {
        "id": "4i8gEcXy7VPm"
      },
      "source": [
        ""
      ],
      "execution_count": 11,
      "outputs": []
    }
  ]
}