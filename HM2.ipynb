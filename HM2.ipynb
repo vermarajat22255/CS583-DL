{
 "cells": [
  {
   "cell_type": "markdown",
   "metadata": {},
   "source": [
    "# HM2: Numerical Optimization for Logistic Regression.\n",
    "\n",
    "### Name: [Rajat Verma]\n"
   ]
  },
  {
   "cell_type": "markdown",
   "metadata": {},
   "source": [
    "## 0. You will do the following:\n",
    "\n",
    "1. Read the lecture note: [click here](https://github.com/wangshusen/DeepLearning/blob/master/LectureNotes/Logistic/paper/logistic.pdf)\n",
    "\n",
    "2. Read, complete, and run my code.\n",
    "\n",
    "3. **Implement mini-batch SGD** and evaluate the performance.\n",
    "\n",
    "4. Convert the .IPYNB file to .HTML file.\n",
    "\n",
    "    * The HTML file must contain **the code** and **the output after execution**.\n",
    "    \n",
    "    * Missing **the output after execution** will not be graded.\n",
    "    \n",
    "5. Upload this .HTML file to your Google Drive, Dropbox, or your Github repo.  (If you submit the file to Google Drive or Dropbox, you must make the file \"open-access\". The delay caused by \"deny of access\" may result in late penalty.)\n",
    "\n",
    "6. Submit the link to this .HTML file to Canvas.\n",
    "\n",
    "    * Example: https://github.com/wangshusen/CS583-2020S/blob/master/homework/HM2/HM2.html\n",
    "\n",
    "\n",
    "## Grading criteria:\n",
    "\n",
    "1. When computing the ```gradient``` and ```objective function value``` using a batch of samples, use **matrix-vector multiplication** rather than a FOR LOOP of **vector-vector multiplications**.\n",
    "\n",
    "2. Plot ```objective function value``` against ```epochs```. In the plot, compare GD, SGD, and MB-SGD (with $b=8$ and $b=64$). The plot must look reasonable."
   ]
  },
  {
   "cell_type": "code",
   "execution_count": null,
   "metadata": {},
   "outputs": [],
   "source": []
  },
  {
   "cell_type": "markdown",
   "metadata": {},
   "source": [
    "# 1. Data processing\n",
    "\n",
    "- Download the Diabete dataset from https://www.csie.ntu.edu.tw/~cjlin/libsvmtools/datasets/binary/diabetes\n",
    "- Load the data using sklearn.\n",
    "- Preprocess the data."
   ]
  },
  {
   "cell_type": "markdown",
   "metadata": {},
   "source": [
    "## 1.1. Load the data"
   ]
  },
  {
   "cell_type": "code",
   "execution_count": 1,
   "metadata": {},
   "outputs": [
    {
     "name": "stdout",
     "output_type": "stream",
     "text": [
      "Shape of x: (768, 8)\n",
      "Shape of y: (768,)\n"
     ]
    }
   ],
   "source": [
    "from sklearn import datasets\n",
    "import numpy\n",
    "\n",
    "x_sparse, y = datasets.load_svmlight_file('diabetes')\n",
    "x = x_sparse.todense()\n",
    "\n",
    "print('Shape of x: ' + str(x.shape))\n",
    "print('Shape of y: ' + str(y.shape))"
   ]
  },
  {
   "cell_type": "markdown",
   "metadata": {},
   "source": [
    "## 1.2. Partition to training and test sets"
   ]
  },
  {
   "cell_type": "code",
   "execution_count": 2,
   "metadata": {},
   "outputs": [
    {
     "name": "stdout",
     "output_type": "stream",
     "text": [
      "Shape of x_train: (640, 8)\n",
      "Shape of x_test: (128, 8)\n",
      "Shape of y_train: (640, 1)\n",
      "Shape of y_test: (128, 1)\n"
     ]
    }
   ],
   "source": [
    "# partition the data to training and test sets\n",
    "n = x.shape[0]\n",
    "n_train = 640\n",
    "n_test = n - n_train\n",
    "\n",
    "rand_indices = numpy.random.permutation(n)\n",
    "train_indices = rand_indices[0:n_train]\n",
    "test_indices = rand_indices[n_train:n]\n",
    "\n",
    "x_train = x[train_indices, :]\n",
    "x_test = x[test_indices, :]\n",
    "y_train = y[train_indices].reshape(n_train, 1)\n",
    "y_test = y[test_indices].reshape(n_test, 1)\n",
    "\n",
    "print('Shape of x_train: ' + str(x_train.shape))\n",
    "print('Shape of x_test: ' + str(x_test.shape))\n",
    "print('Shape of y_train: ' + str(y_train.shape))\n",
    "print('Shape of y_test: ' + str(y_test.shape))"
   ]
  },
  {
   "cell_type": "markdown",
   "metadata": {},
   "source": [
    "## 1.3. Feature scaling"
   ]
  },
  {
   "cell_type": "markdown",
   "metadata": {},
   "source": [
    "Use the standardization to trainsform both training and test features"
   ]
  },
  {
   "cell_type": "code",
   "execution_count": 3,
   "metadata": {},
   "outputs": [
    {
     "name": "stdout",
     "output_type": "stream",
     "text": [
      "test mean = \n",
      "[[-0.00325124 -0.15475184 -0.04405069 -0.12522473 -0.10488674 -0.06205968\n",
      "  -0.16400019 -0.1643166 ]]\n",
      "test std = \n",
      "[[1.00583521 1.02329161 1.08904531 0.94381733 0.86517764 0.90463854\n",
      "  0.94325558 0.99325433]]\n"
     ]
    }
   ],
   "source": [
    "# Standardization\n",
    "import numpy\n",
    "\n",
    "# calculate mu and sig using the training set\n",
    "d = x_train.shape[1]\n",
    "mu = numpy.mean(x_train, axis=0).reshape(1, d)\n",
    "sig = numpy.std(x_train, axis=0).reshape(1, d)\n",
    "\n",
    "# transform the training features\n",
    "x_train = (x_train - mu) / (sig + 1E-6)\n",
    "\n",
    "# transform the test features\n",
    "x_test = (x_test - mu) / (sig + 1E-6)\n",
    "\n",
    "print('test mean = ')\n",
    "print(numpy.mean(x_test, axis=0))\n",
    "\n",
    "print('test std = ')\n",
    "print(numpy.std(x_test, axis=0))"
   ]
  },
  {
   "cell_type": "markdown",
   "metadata": {},
   "source": [
    "## 1.4. Add a dimension of all ones"
   ]
  },
  {
   "cell_type": "code",
   "execution_count": 4,
   "metadata": {},
   "outputs": [
    {
     "name": "stdout",
     "output_type": "stream",
     "text": [
      "Shape of x_train: (640, 9)\n",
      "Shape of x_test: (128, 9)\n"
     ]
    }
   ],
   "source": [
    "n_train, d = x_train.shape\n",
    "x_train = numpy.concatenate((x_train, numpy.ones((n_train, 1))), axis=1)\n",
    "\n",
    "n_test, d = x_test.shape\n",
    "x_test = numpy.concatenate((x_test, numpy.ones((n_test, 1))), axis=1)\n",
    "\n",
    "print('Shape of x_train: ' + str(x_train.shape))\n",
    "print('Shape of x_test: ' + str(x_test.shape))"
   ]
  },
  {
   "cell_type": "markdown",
   "metadata": {},
   "source": [
    "# 2. Logistic regression model\n",
    "\n",
    "The objective function is $Q (w; X, y) = \\frac{1}{n} \\sum_{i=1}^n \\log \\Big( 1 + \\exp \\big( - y_i x_i^T w \\big) \\Big) + \\frac{\\lambda}{2} \\| w \\|_2^2 $."
   ]
  },
  {
   "cell_type": "code",
   "execution_count": 5,
   "metadata": {},
   "outputs": [],
   "source": [
    "# Calculate the objective function value\n",
    "# Inputs:\n",
    "#     w: d-by-1 matrix\n",
    "#     x: n-by-d matrix\n",
    "#     y: n-by-1 matrix\n",
    "#     lam: scalar, the regularization parameter\n",
    "# Return:\n",
    "#     objective function value (scalar)\n",
    "def objective(w, x, y, lam):\n",
    "    n, d = x.shape\n",
    "    yx = numpy.multiply(y, x) # n-by-d matrix\n",
    "    yxw = numpy.dot(yx, w) # n-by-1 matrix\n",
    "    vec1 = numpy.exp(-yxw) # n-by-1 matrix\n",
    "    vec2 = numpy.log(1 + vec1) # n-by-1 matrix\n",
    "    loss = numpy.mean(vec2) # scalar\n",
    "    reg = lam / 2 * numpy.sum(w * w) # scalar\n",
    "    return loss + reg\n",
    "    "
   ]
  },
  {
   "cell_type": "code",
   "execution_count": 6,
   "metadata": {},
   "outputs": [
    {
     "name": "stdout",
     "output_type": "stream",
     "text": [
      "Initial objective function value = 0.6931471805599453\n"
     ]
    }
   ],
   "source": [
    "# initialize w\n",
    "d = x_train.shape[1]\n",
    "w = numpy.zeros((d, 1))\n",
    "\n",
    "# evaluate the objective function value at w\n",
    "lam = 1E-6\n",
    "objval0 = objective(w, x_train, y_train, lam)\n",
    "print('Initial objective function value = ' + str(objval0))"
   ]
  },
  {
   "cell_type": "markdown",
   "metadata": {},
   "source": [
    "# 3. Numerical optimization"
   ]
  },
  {
   "cell_type": "markdown",
   "metadata": {},
   "source": [
    "## 3.1. Gradient descent\n"
   ]
  },
  {
   "cell_type": "markdown",
   "metadata": {},
   "source": [
    "The gradient at $w$ is $g = - \\frac{1}{n} \\sum_{i=1}^n \\frac{y_i x_i }{1 + \\exp ( y_i x_i^T w)} + \\lambda w$"
   ]
  },
  {
   "cell_type": "code",
   "execution_count": 7,
   "metadata": {},
   "outputs": [],
   "source": [
    "# Calculate the gradient\n",
    "# Inputs:\n",
    "#     w: d-by-1 matrix\n",
    "#     x: n-by-d matrix\n",
    "#     y: n-by-1 matrix\n",
    "#     lam: scalar, the regularization parameter\n",
    "# Return:\n",
    "#     g: g: d-by-1 matrix, full gradient\n",
    "def gradient(w, x, y, lam):\n",
    "    n, d = x.shape\n",
    "    yx = numpy.multiply(y, x) # n-by-d matrix\n",
    "    yxw = numpy.dot(yx, w) # n-by-1 matrix\n",
    "    vec1 = numpy.exp(yxw) # n-by-1 matrix\n",
    "    vec2 = numpy.divide(yx, 1+vec1) # n-by-d matrix\n",
    "    vec3 = -numpy.mean(vec2, axis=0).reshape(d, 1) # d-by-1 matrix\n",
    "    g = vec3 + lam * w\n",
    "    return g"
   ]
  },
  {
   "cell_type": "code",
   "execution_count": 8,
   "metadata": {},
   "outputs": [],
   "source": [
    "# Gradient descent for solving logistic regression\n",
    "# Inputs:\n",
    "#     x: n-by-d matrix\n",
    "#     y: n-by-1 matrix\n",
    "#     lam: scalar, the regularization parameter\n",
    "#     stepsize: scalar\n",
    "#     max_iter: integer, the maximal iterations\n",
    "#     w: d-by-1 matrix, initialization of w\n",
    "# Return:\n",
    "#     w: d-by-1 matrix, the solution\n",
    "#     objvals: a record of each iteration's objective value\n",
    "def grad_descent(x, y, lam, stepsize, max_iter=100, w=None):\n",
    "    n, d = x.shape\n",
    "    objvals = numpy.zeros(max_iter) # store the objective values\n",
    "    if w is None:\n",
    "        w = numpy.zeros((d, 1)) # zero initialization\n",
    "    \n",
    "    for t in range(max_iter):\n",
    "        objval = objective(w, x, y, lam)\n",
    "        objvals[t] = objval\n",
    "        print('Objective value at t=' + str(t) + ' is ' + str(objval))\n",
    "        g = gradient(w, x, y, lam)\n",
    "        w -= stepsize * g\n",
    "    \n",
    "    return w, objvals"
   ]
  },
  {
   "cell_type": "markdown",
   "metadata": {},
   "source": [
    "Run gradient descent."
   ]
  },
  {
   "cell_type": "code",
   "execution_count": 9,
   "metadata": {},
   "outputs": [
    {
     "name": "stdout",
     "output_type": "stream",
     "text": [
      "Objective value at t=0 is 0.6931471805599453\n",
      "Objective value at t=1 is 0.5913144362408292\n",
      "Objective value at t=2 is 0.5495743765649248\n",
      "Objective value at t=3 is 0.5272892271602194\n",
      "Objective value at t=4 is 0.5135355045899204\n",
      "Objective value at t=5 is 0.5043309143019741\n",
      "Objective value at t=6 is 0.4978527230098408\n",
      "Objective value at t=7 is 0.49313432683344743\n",
      "Objective value at t=8 is 0.4896102692907036\n",
      "Objective value at t=9 is 0.4869265665162128\n",
      "Objective value at t=10 is 0.4848505675318303\n",
      "Objective value at t=11 is 0.48322368645167074\n",
      "Objective value at t=12 is 0.4819346995778053\n",
      "Objective value at t=13 is 0.48090377796584943\n",
      "Objective value at t=14 is 0.4800725094479353\n",
      "Objective value at t=15 is 0.479397441920057\n",
      "Objective value at t=16 is 0.47884578486210067\n",
      "Objective value at t=17 is 0.4783924789679856\n",
      "Objective value at t=18 is 0.4780181574690082\n",
      "Objective value at t=19 is 0.47770770243609234\n",
      "Objective value at t=20 is 0.47744920619792086\n",
      "Objective value at t=21 is 0.4772332135517775\n",
      "Objective value at t=22 is 0.4770521617143295\n",
      "Objective value at t=23 is 0.4768999615403481\n",
      "Objective value at t=24 is 0.47677168099749595\n",
      "Objective value at t=25 is 0.47666330355644326\n",
      "Objective value at t=26 is 0.4765715420806103\n",
      "Objective value at t=27 is 0.47649369425867255\n",
      "Objective value at t=28 is 0.4764275294328179\n",
      "Objective value at t=29 is 0.4763711993673128\n",
      "Objective value at t=30 is 0.47632316742516034\n",
      "Objective value at t=31 is 0.47628215200953683\n",
      "Objective value at t=32 is 0.47624708113979236\n",
      "Objective value at t=33 is 0.47621705577775825\n",
      "Objective value at t=34 is 0.4761913200742768\n",
      "Objective value at t=35 is 0.4761692371210214\n",
      "Objective value at t=36 is 0.4761502691061821\n",
      "Objective value at t=37 is 0.4761339610111127\n",
      "Objective value at t=38 is 0.4761199271678199\n",
      "Objective value at t=39 is 0.4761078401381865\n",
      "Objective value at t=40 is 0.4760974214853128\n",
      "Objective value at t=41 is 0.4760884340928897\n",
      "Objective value at t=42 is 0.4760806757557198\n",
      "Objective value at t=43 is 0.4760739738175866\n",
      "Objective value at t=44 is 0.47606818067483014\n",
      "Objective value at t=45 is 0.47606316999761766\n",
      "Objective value at t=46 is 0.4760588335478671\n",
      "Objective value at t=47 is 0.4760550784944868\n",
      "Objective value at t=48 is 0.4760518251441483\n",
      "Objective value at t=49 is 0.47604900502005226\n",
      "Objective value at t=50 is 0.47604655923275063\n",
      "Objective value at t=51 is 0.4760444370965771\n",
      "Objective value at t=52 is 0.4760425949530126\n",
      "Objective value at t=53 is 0.47604099516871484\n",
      "Objective value at t=54 is 0.4760396052812207\n",
      "Objective value at t=55 is 0.4760383972696993\n",
      "Objective value at t=56 is 0.4760373469317539\n",
      "Objective value at t=57 is 0.47603643335029133\n",
      "Objective value at t=58 is 0.4760356384369806\n",
      "Objective value at t=59 is 0.4760349465409269\n",
      "Objective value at t=60 is 0.4760343441129412\n",
      "Objective value at t=61 is 0.4760338194172559\n",
      "Objective value at t=62 is 0.4760333622837801\n",
      "Objective value at t=63 is 0.47603296389502386\n",
      "Objective value at t=64 is 0.4760326166027042\n",
      "Objective value at t=65 is 0.47603231376978244\n",
      "Objective value at t=66 is 0.4760320496343145\n",
      "Objective value at t=67 is 0.4760318191920248\n",
      "Objective value at t=68 is 0.47603161809496153\n",
      "Objective value at t=69 is 0.47603144256398344\n",
      "Objective value at t=70 is 0.47603128931313976\n",
      "Objective value at t=71 is 0.47603115548429686\n",
      "Objective value at t=72 is 0.4760310385905871\n",
      "Objective value at t=73 is 0.47603093646746736\n",
      "Objective value at t=74 is 0.4760308472303409\n",
      "Objective value at t=75 is 0.4760307692378449\n",
      "Objective value at t=76 is 0.4760307010600304\n",
      "Objective value at t=77 is 0.47603064145077245\n",
      "Objective value at t=78 is 0.47603058932383513\n",
      "Objective value at t=79 is 0.476030543732101\n",
      "Objective value at t=80 is 0.4760305038495373\n",
      "Objective value at t=81 is 0.4760304689555332\n",
      "Objective value at t=82 is 0.4760304384212919\n",
      "Objective value at t=83 is 0.4760304116980014\n",
      "Objective value at t=84 is 0.47603038830655053\n",
      "Objective value at t=85 is 0.47603036782858377\n",
      "Objective value at t=86 is 0.4760303498987173\n",
      "Objective value at t=87 is 0.47603033419776536\n",
      "Objective value at t=88 is 0.476030320446843\n",
      "Objective value at t=89 is 0.4760303084022294\n",
      "Objective value at t=90 is 0.47603029785089296\n",
      "Objective value at t=91 is 0.476030288606594\n",
      "Objective value at t=92 is 0.4760302805064846\n",
      "Objective value at t=93 is 0.47603027340814685\n",
      "Objective value at t=94 is 0.4760302671870086\n",
      "Objective value at t=95 is 0.47603026173408935\n",
      "Objective value at t=96 is 0.47603025695403384\n",
      "Objective value at t=97 is 0.47603025276339567\n",
      "Objective value at t=98 is 0.4760302490891394\n",
      "Objective value at t=99 is 0.47603024586733184\n"
     ]
    }
   ],
   "source": [
    "lam = 1E-6\n",
    "stepsize = 1.0\n",
    "w, objvals_gd = grad_descent(x_train, y_train, lam, stepsize)"
   ]
  },
  {
   "cell_type": "markdown",
   "metadata": {},
   "source": [
    "## 3.2. Stochastic gradient descent (SGD)\n",
    "\n",
    "Define $Q_i (w) = \\log \\Big( 1 + \\exp \\big( - y_i x_i^T w \\big) \\Big) + \\frac{\\lambda}{2} \\| w \\|_2^2 $.\n",
    "\n",
    "The stochastic gradient at $w$ is $g_i = \\frac{\\partial Q_i }{ \\partial w} = -\\frac{y_i x_i }{1 + \\exp ( y_i x_i^T w)} + \\lambda w$."
   ]
  },
  {
   "cell_type": "code",
   "execution_count": 10,
   "metadata": {},
   "outputs": [],
   "source": [
    "# Calculate the objective Q_i and the gradient of Q_i\n",
    "# Inputs:\n",
    "#     w: d-by-1 matrix\n",
    "#     xi: 1-by-d matrix\n",
    "#     yi: scalar\n",
    "#     lam: scalar, the regularization parameter\n",
    "# Return:\n",
    "#     obj: scalar, the objective Q_i\n",
    "#     g: d-by-1 matrix, gradient of Q_i\n",
    "def stochastic_objective_gradient(w, xi, yi, lam):\n",
    "    d = xi.shape[0]\n",
    "    yx = yi * xi # 1-by-d matrix\n",
    "    yxw = float(numpy.dot(yx, w)) # scalar\n",
    "    \n",
    "    # calculate objective function Q_i\n",
    "    loss = numpy.log(1 + numpy.exp(-yxw)) # scalar\n",
    "    reg = lam / 2 * numpy.sum(w * w) # scalar\n",
    "    obj = loss + reg\n",
    "    \n",
    "    # calculate stochastic gradient\n",
    "    g_loss = -yx.T / (1 + numpy.exp(yxw)) # d-by-1 matrix\n",
    "    g = g_loss + lam * w # d-by-1 matrix\n",
    "    \n",
    "    return obj, g"
   ]
  },
  {
   "cell_type": "code",
   "execution_count": 11,
   "metadata": {},
   "outputs": [],
   "source": [
    "# SGD for solving logistic regression\n",
    "# Inputs:\n",
    "#     x: n-by-d matrix\n",
    "#     y: n-by-1 matrix\n",
    "#     lam: scalar, the regularization parameter\n",
    "#     stepsize: scalar\n",
    "#     max_epoch: integer, the maximal epochs\n",
    "#     w: d-by-1 matrix, initialization of w\n",
    "# Return:\n",
    "#     w: the solution\n",
    "#     objvals: record of each iteration's objective value\n",
    "def sgd(x, y, lam, stepsize, max_epoch=100, w=None):\n",
    "    n, d = x.shape\n",
    "    objvals = numpy.zeros(max_epoch) # store the objective values\n",
    "    if w is None:\n",
    "        w = numpy.zeros((d, 1)) # zero initialization\n",
    "    \n",
    "    for t in range(max_epoch):\n",
    "        # randomly shuffle the samples\n",
    "        rand_indices = numpy.random.permutation(n)\n",
    "        x_rand = x[rand_indices, :]\n",
    "        y_rand = y[rand_indices, :]\n",
    "        \n",
    "        objval = 0 # accumulate the objective values\n",
    "        for i in range(n):\n",
    "            xi = x_rand[i, :] # 1-by-d matrix\n",
    "            yi = float(y_rand[i, :]) # scalar\n",
    "            obj, g = stochastic_objective_gradient(w, xi, yi, lam)\n",
    "            objval += obj\n",
    "            w -= stepsize * g\n",
    "        \n",
    "        stepsize *= 0.9 # decrease step size\n",
    "        objval /= n\n",
    "        objvals[t] = objval\n",
    "        print('Objective value at epoch t=' + str(t) + ' is ' + str(objval))\n",
    "    \n",
    "    return w, objvals"
   ]
  },
  {
   "cell_type": "markdown",
   "metadata": {},
   "source": [
    "Run SGD."
   ]
  },
  {
   "cell_type": "code",
   "execution_count": 12,
   "metadata": {},
   "outputs": [
    {
     "name": "stdout",
     "output_type": "stream",
     "text": [
      "Objective value at epoch t=0 is 0.5408523170907604\n",
      "Objective value at epoch t=1 is 0.5268750394777999\n",
      "Objective value at epoch t=2 is 0.5239938589751698\n",
      "Objective value at epoch t=3 is 0.5119052691387557\n",
      "Objective value at epoch t=4 is 0.5125195606959684\n",
      "Objective value at epoch t=5 is 0.5104408322198328\n",
      "Objective value at epoch t=6 is 0.5078195438399038\n",
      "Objective value at epoch t=7 is 0.5020495980255155\n",
      "Objective value at epoch t=8 is 0.4982776279245497\n",
      "Objective value at epoch t=9 is 0.49810918223031164\n",
      "Objective value at epoch t=10 is 0.4966696479970147\n",
      "Objective value at epoch t=11 is 0.49255768614413664\n",
      "Objective value at epoch t=12 is 0.49385627609878313\n",
      "Objective value at epoch t=13 is 0.49028441662764666\n",
      "Objective value at epoch t=14 is 0.49095158697843794\n",
      "Objective value at epoch t=15 is 0.4893106067445201\n",
      "Objective value at epoch t=16 is 0.48727563872235863\n",
      "Objective value at epoch t=17 is 0.48676549078674014\n",
      "Objective value at epoch t=18 is 0.4854383837255317\n",
      "Objective value at epoch t=19 is 0.4849596171365464\n",
      "Objective value at epoch t=20 is 0.4831732858965414\n",
      "Objective value at epoch t=21 is 0.4837571062970804\n",
      "Objective value at epoch t=22 is 0.4830016075824507\n",
      "Objective value at epoch t=23 is 0.4823329538408928\n",
      "Objective value at epoch t=24 is 0.48136421982729427\n",
      "Objective value at epoch t=25 is 0.4810260586467387\n",
      "Objective value at epoch t=26 is 0.48079104758731717\n",
      "Objective value at epoch t=27 is 0.48021150454049444\n",
      "Objective value at epoch t=28 is 0.4795207943109105\n",
      "Objective value at epoch t=29 is 0.47931045300357233\n",
      "Objective value at epoch t=30 is 0.4790067265218827\n",
      "Objective value at epoch t=31 is 0.47866250200044214\n",
      "Objective value at epoch t=32 is 0.47848403794141836\n",
      "Objective value at epoch t=33 is 0.47827413713594913\n",
      "Objective value at epoch t=34 is 0.47794545678865996\n",
      "Objective value at epoch t=35 is 0.4778076118596724\n",
      "Objective value at epoch t=36 is 0.47770717370010446\n",
      "Objective value at epoch t=37 is 0.4775044589471896\n",
      "Objective value at epoch t=38 is 0.4773545945675245\n",
      "Objective value at epoch t=39 is 0.4772297016792028\n",
      "Objective value at epoch t=40 is 0.4771158854863863\n",
      "Objective value at epoch t=41 is 0.4770085146545129\n",
      "Objective value at epoch t=42 is 0.47690848781147316\n",
      "Objective value at epoch t=43 is 0.47681143732969844\n",
      "Objective value at epoch t=44 is 0.4767395712559363\n",
      "Objective value at epoch t=45 is 0.47667641715897124\n",
      "Objective value at epoch t=46 is 0.4766068445880259\n",
      "Objective value at epoch t=47 is 0.47655820224392204\n",
      "Objective value at epoch t=48 is 0.4765024656001417\n",
      "Objective value at epoch t=49 is 0.4764588046728127\n",
      "Objective value at epoch t=50 is 0.47641188198860435\n",
      "Objective value at epoch t=51 is 0.47637666320807925\n",
      "Objective value at epoch t=52 is 0.47634101313689403\n",
      "Objective value at epoch t=53 is 0.47630944216463506\n",
      "Objective value at epoch t=54 is 0.4762800002229436\n",
      "Objective value at epoch t=55 is 0.4762583559135762\n",
      "Objective value at epoch t=56 is 0.47623534012797186\n",
      "Objective value at epoch t=57 is 0.4762148774855837\n",
      "Objective value at epoch t=58 is 0.4761966726358556\n",
      "Objective value at epoch t=59 is 0.47617997340609186\n",
      "Objective value at epoch t=60 is 0.4761650744219466\n",
      "Objective value at epoch t=61 is 0.4761518094647035\n",
      "Objective value at epoch t=62 is 0.4761397622501485\n",
      "Objective value at epoch t=63 is 0.47612884234041275\n",
      "Objective value at epoch t=64 is 0.47611906011050564\n",
      "Objective value at epoch t=65 is 0.4761102175208728\n",
      "Objective value at epoch t=66 is 0.47610232333412733\n",
      "Objective value at epoch t=67 is 0.47609521853835696\n",
      "Objective value at epoch t=68 is 0.47608880462501757\n",
      "Objective value at epoch t=69 is 0.47608287367765045\n",
      "Objective value at epoch t=70 is 0.47607775096316374\n",
      "Objective value at epoch t=71 is 0.4760730983423886\n",
      "Objective value at epoch t=72 is 0.4760688610317415\n",
      "Objective value at epoch t=73 is 0.47606509014759696\n",
      "Objective value at epoch t=74 is 0.47606167617464734\n",
      "Objective value at epoch t=75 is 0.4760586073595907\n",
      "Objective value at epoch t=76 is 0.47605583454218703\n",
      "Objective value at epoch t=77 is 0.47605334489094603\n",
      "Objective value at epoch t=78 is 0.4760510982284852\n",
      "Objective value at epoch t=79 is 0.4760490794769221\n",
      "Objective value at epoch t=80 is 0.4760472660344795\n",
      "Objective value at epoch t=81 is 0.47604563329876254\n",
      "Objective value at epoch t=82 is 0.47604415683398055\n",
      "Objective value at epoch t=83 is 0.47604283364763456\n",
      "Objective value at epoch t=84 is 0.4760416450839366\n",
      "Objective value at epoch t=85 is 0.4760405699376036\n",
      "Objective value at epoch t=86 is 0.4760396068912128\n",
      "Objective value at epoch t=87 is 0.4760387379518223\n",
      "Objective value at epoch t=88 is 0.4760379553369365\n",
      "Objective value at epoch t=89 is 0.4760372512259263\n",
      "Objective value at epoch t=90 is 0.47603661705680667\n",
      "Objective value at epoch t=91 is 0.4760360471449399\n",
      "Objective value at epoch t=92 is 0.476035533794418\n",
      "Objective value at epoch t=93 is 0.4760350721644538\n",
      "Objective value at epoch t=94 is 0.47603465661571825\n",
      "Objective value at epoch t=95 is 0.47603428232883854\n",
      "Objective value at epoch t=96 is 0.47603394566515284\n",
      "Objective value at epoch t=97 is 0.4760336426186823\n",
      "Objective value at epoch t=98 is 0.4760333698727851\n",
      "Objective value at epoch t=99 is 0.47603312433453737\n"
     ]
    }
   ],
   "source": [
    "lam = 1E-6\n",
    "stepsize = 0.1\n",
    "w, objvals_sgd = sgd(x_train, y_train, lam, stepsize)"
   ]
  },
  {
   "cell_type": "markdown",
   "metadata": {},
   "source": [
    "# 4. Compare GD with SGD\n",
    "\n",
    "Plot objective function values against epochs."
   ]
  },
  {
   "cell_type": "code",
   "execution_count": 13,
   "metadata": {},
   "outputs": [
    {
     "data": {
      "image/png": "[encoded data removed]",
      "text/plain": [
       "<Figure size 432x288 with 1 Axes>"
      ]
     },
     "metadata": {
      "needs_background": "light"
     },
     "output_type": "display_data"
    }
   ],
   "source": [
    "import matplotlib.pyplot as plt\n",
    "%matplotlib inline\n",
    "\n",
    "fig = plt.figure(figsize=(6, 4))\n",
    "\n",
    "epochs_gd = range(len(objvals_gd))\n",
    "epochs_sgd = range(len(objvals_sgd))\n",
    "\n",
    "line0, = plt.plot(epochs_gd, objvals_gd, '--b', LineWidth=4)\n",
    "line1, = plt.plot(epochs_sgd, objvals_sgd, '-r', LineWidth=2)\n",
    "plt.xlabel('Epochs', FontSize=20)\n",
    "plt.ylabel('Objective Value', FontSize=20)\n",
    "plt.xticks(FontSize=16)\n",
    "plt.yticks(FontSize=16)\n",
    "plt.legend([line0, line1], ['GD', 'SGD'], fontsize=20)\n",
    "plt.tight_layout()\n",
    "plt.show()\n",
    "fig.savefig('compare_gd_sgd.pdf', format='pdf', dpi=1200)"
   ]
  },
  {
   "cell_type": "markdown",
   "metadata": {},
   "source": [
    "# 5. Prediction"
   ]
  },
  {
   "cell_type": "code",
   "execution_count": 14,
   "metadata": {},
   "outputs": [],
   "source": [
    "# Predict class label\n",
    "# Inputs:\n",
    "#     w: d-by-1 matrix\n",
    "#     X: m-by-d matrix\n",
    "# Return:\n",
    "#     f: m-by-1 matrix, the predictions\n",
    "def predict(w, X):\n",
    "    xw = numpy.dot(X, w)\n",
    "    f = numpy.sign(xw)\n",
    "    return f"
   ]
  },
  {
   "cell_type": "code",
   "execution_count": 15,
   "metadata": {},
   "outputs": [
    {
     "name": "stdout",
     "output_type": "stream",
     "text": [
      "Training classification error is 0.2140625\n"
     ]
    }
   ],
   "source": [
    "# evaluate training error\n",
    "f_train = predict(w, x_train)\n",
    "diff = numpy.abs(f_train - y_train) / 2\n",
    "error_train = numpy.mean(diff)\n",
    "print('Training classification error is ' + str(error_train))"
   ]
  },
  {
   "cell_type": "code",
   "execution_count": 16,
   "metadata": {},
   "outputs": [
    {
     "name": "stdout",
     "output_type": "stream",
     "text": [
      "Test classification error is 0.2265625\n"
     ]
    }
   ],
   "source": [
    "# evaluate test error\n",
    "f_test = predict(w, x_test)\n",
    "diff = numpy.abs(f_test - y_test) / 2\n",
    "error_test = numpy.mean(diff)\n",
    "print('Test classification error is ' + str(error_test))"
   ]
  },
  {
   "cell_type": "markdown",
   "metadata": {},
   "source": [
    "# 6. Mini-batch SGD (fill the code)\n",
    "\n"
   ]
  },
  {
   "cell_type": "markdown",
   "metadata": {},
   "source": [
    "## 6.1. Compute the objective $Q_I$ and its gradient using a batch of samples\n",
    "\n",
    "Define $Q_I (w) = \\frac{1}{b} \\sum_{i \\in I} \\log \\Big( 1 + \\exp \\big( - y_i x_i^T w \\big) \\Big) + \\frac{\\lambda}{2} \\| w \\|_2^2 $, where $I$ is a set containing $b$ indices randomly drawn from $\\{ 1, \\cdots , n \\}$ without replacement.\n",
    "\n",
    "The stochastic gradient at $w$ is $g_I = \\frac{\\partial Q_I }{ \\partial w} = \\frac{1}{b} \\sum_{i \\in I} \\frac{- y_i x_i }{1 + \\exp ( y_i x_i^T w)} + \\lambda w$."
   ]
  },
  {
   "cell_type": "code",
   "execution_count": 17,
   "metadata": {},
   "outputs": [],
   "source": [
    "# Calculate the objective Q_I and the gradient of Q_I\n",
    "# Inputs:\n",
    "#     w: d-by-1 matrix\n",
    "#     xi: b-by-d matrix\n",
    "#     yi: b-by-1 matrix\n",
    "#     lam: scalar, the regularization parameter\n",
    "#     b: integer, the batch size\n",
    "# Return:\n",
    "#     obj: scalar, the objective Q_i\n",
    "#     g: d-by-1 matrix, gradient of Q_i\n",
    "def mb_stochastic_objective_gradient(w, xi, yi, lam, b):\n",
    "    # Fill the function\n",
    "    # Follow the implementation of stochastic_objective_gradient\n",
    "    # Use matrix-vector multiplication; do not use FOR LOOP of vector-vector multiplications\n",
    "    n, d = xi.shape\n",
    "    yx = numpy.multiply(yi, xi)\n",
    "    yxw = numpy.dot(yx,w)\n",
    "    \n",
    "    #Objective function\n",
    "    \n",
    "    vec1 = numpy.log(1+numpy.exp(-yxw))\n",
    "    loss = numpy.mean(vec1)\n",
    "    reg = lam/2 * numpy.sum(w*w)\n",
    "    obj = loss + reg\n",
    "    \n",
    "    # stochastic gradient\n",
    "    vec2 = numpy.exp(yxw)\n",
    "    vec3 = numpy.divide(-yx, 1+vec2)\n",
    "    vec4 = numpy.mean(vec3, axis=0).reshape(d, 1)\n",
    "    g = vec4 + lam * w\n",
    "    return obj, g"
   ]
  },
  {
   "cell_type": "markdown",
   "metadata": {},
   "source": [
    "## 6.2. Implement mini-batch SGD\n",
    "\n",
    "Hints:\n",
    "1. In every epoch, randomly permute the $n$ samples (just like SGD).\n",
    "2. Each epoch has $\\frac{n}{b}$ iterations. In every iteration, use $b$ samples, and compute the gradient and objective using the ``mb_stochastic_objective_gradient`` function. In the next iteration, use the next $b$ samples, and so on.\n"
   ]
  },
  {
   "cell_type": "code",
   "execution_count": 18,
   "metadata": {},
   "outputs": [],
   "source": [
    "# Mini-Batch SGD for solving logistic regression\n",
    "# Inputs:\n",
    "#     x: n-by-d matrix\n",
    "#     y: n-by-1 matrix\n",
    "#     lam: scalar, the regularization parameter\n",
    "#     b: integer, the batch size\n",
    "#     stepsize: scalar\n",
    "#     max_epoch: integer, the maximal epochs\n",
    "#     w: d-by-1 matrix, initialization of w\n",
    "# Return:\n",
    "#     w: the solution\n",
    "#     objvals: record of each iteration's objective value\n",
    "def mb_sgd(x, y, lam, b, stepsize, max_epoch=100, w=None):\n",
    "    # Fill the function\n",
    "    # Follow the implementation of sgd\n",
    "    # Record one objective value per epoch (not per iteration!)\n",
    "    n, d = x.shape\n",
    "    objvals = numpy.zeros(max_epoch) # store the objective values\n",
    "    if w is None:\n",
    "        w = numpy.zeros((d, 1)) # zero initialization\n",
    "    \n",
    "    for t in range(max_epoch):\n",
    "        # randomly shuffle the samples\n",
    "        rand_indices = numpy.random.permutation(n)\n",
    "        \n",
    "        objval = 0 # accumulate the objective values\n",
    "        for i in range(int(n/b)):\n",
    "            xmb = x[rand_indices[i*b:(i+1)*b], :]\n",
    "            ymb = y[rand_indices[i*b:(i+1)*b], :]\n",
    "        \n",
    "            obj, g = mb_stochastic_objective_gradient(w, xmb, ymb, lam, b)\n",
    "            objval += obj\n",
    "            w -= stepsize * g\n",
    "            \n",
    "        stepsize *= 0.9 # decrease step size\n",
    "        objval *= b/n\n",
    "        objvals[t] = objval\n",
    "        print('Objective value at epoch t=' + str(t) + ' is ' + str(objval))\n",
    "    \n",
    "    return w, objvals"
   ]
  },
  {
   "cell_type": "markdown",
   "metadata": {},
   "source": [
    "## 6.3. Run MB-SGD"
   ]
  },
  {
   "cell_type": "code",
   "execution_count": 19,
   "metadata": {},
   "outputs": [
    {
     "name": "stdout",
     "output_type": "stream",
     "text": [
      "Objective value at epoch t=0 is 0.5365393745273561\n",
      "Objective value at epoch t=1 is 0.5221297757502897\n",
      "Objective value at epoch t=2 is 0.517954156467903\n",
      "Objective value at epoch t=3 is 0.509772541346835\n",
      "Objective value at epoch t=4 is 0.5165516048380171\n",
      "Objective value at epoch t=5 is 0.5050889893937621\n",
      "Objective value at epoch t=6 is 0.5087711506597111\n",
      "Objective value at epoch t=7 is 0.5037784180551891\n",
      "Objective value at epoch t=8 is 0.49874765191997456\n",
      "Objective value at epoch t=9 is 0.49899895602192457\n",
      "Objective value at epoch t=10 is 0.49018079229386924\n",
      "Objective value at epoch t=11 is 0.49350068085086707\n",
      "Objective value at epoch t=12 is 0.4953393276150626\n",
      "Objective value at epoch t=13 is 0.49275774584838933\n",
      "Objective value at epoch t=14 is 0.4882195894896324\n",
      "Objective value at epoch t=15 is 0.4877362669834262\n",
      "Objective value at epoch t=16 is 0.4868240555815728\n",
      "Objective value at epoch t=17 is 0.4858868376291519\n",
      "Objective value at epoch t=18 is 0.4861681586702662\n",
      "Objective value at epoch t=19 is 0.48374448659061575\n",
      "Objective value at epoch t=20 is 0.4838062474563117\n",
      "Objective value at epoch t=21 is 0.48247042853632105\n",
      "Objective value at epoch t=22 is 0.4822942089740262\n",
      "Objective value at epoch t=23 is 0.4820096935243823\n",
      "Objective value at epoch t=24 is 0.48103686296785614\n",
      "Objective value at epoch t=25 is 0.4807411929071675\n",
      "Objective value at epoch t=26 is 0.4806252778963034\n",
      "Objective value at epoch t=27 is 0.4801624535070282\n",
      "Objective value at epoch t=28 is 0.4793581209040504\n",
      "Objective value at epoch t=29 is 0.4789004440938131\n",
      "Objective value at epoch t=30 is 0.478851943610641\n",
      "Objective value at epoch t=31 is 0.478811435889686\n",
      "Objective value at epoch t=32 is 0.4785781076377797\n",
      "Objective value at epoch t=33 is 0.478313692661011\n",
      "Objective value at epoch t=34 is 0.47810940429921206\n",
      "Objective value at epoch t=35 is 0.4779358039697772\n",
      "Objective value at epoch t=36 is 0.4776422310271186\n",
      "Objective value at epoch t=37 is 0.47743476650271666\n",
      "Objective value at epoch t=38 is 0.4773128820134234\n",
      "Objective value at epoch t=39 is 0.4772571081935668\n",
      "Objective value at epoch t=40 is 0.47727713514732345\n",
      "Objective value at epoch t=41 is 0.47688494831435896\n",
      "Objective value at epoch t=42 is 0.4768557979606007\n",
      "Objective value at epoch t=43 is 0.47678328791471963\n",
      "Objective value at epoch t=44 is 0.4767324041597301\n",
      "Objective value at epoch t=45 is 0.4766223009236071\n",
      "Objective value at epoch t=46 is 0.4765488652435013\n",
      "Objective value at epoch t=47 is 0.47652769990010313\n",
      "Objective value at epoch t=48 is 0.476504133707456\n",
      "Objective value at epoch t=49 is 0.4764370335430765\n",
      "Objective value at epoch t=50 is 0.4764056262275916\n",
      "Objective value at epoch t=51 is 0.47637611803078744\n",
      "Objective value at epoch t=52 is 0.4763179951786997\n",
      "Objective value at epoch t=53 is 0.4763362385192867\n",
      "Objective value at epoch t=54 is 0.4762710899222653\n",
      "Objective value at epoch t=55 is 0.47623843848692293\n",
      "Objective value at epoch t=56 is 0.4762200874205411\n",
      "Objective value at epoch t=57 is 0.4762196975989597\n",
      "Objective value at epoch t=58 is 0.4761755660521818\n",
      "Objective value at epoch t=59 is 0.4761836671154094\n",
      "Objective value at epoch t=60 is 0.47615638822105577\n",
      "Objective value at epoch t=61 is 0.4761489959646137\n",
      "Objective value at epoch t=62 is 0.4761201448565362\n",
      "Objective value at epoch t=63 is 0.4761339022777189\n",
      "Objective value at epoch t=64 is 0.4761134251965702\n",
      "Objective value at epoch t=65 is 0.4761136911070801\n",
      "Objective value at epoch t=66 is 0.476106397947157\n",
      "Objective value at epoch t=67 is 0.4760985216121119\n",
      "Objective value at epoch t=68 is 0.4760858491462197\n",
      "Objective value at epoch t=69 is 0.4760781905421377\n",
      "Objective value at epoch t=70 is 0.4760786771069987\n",
      "Objective value at epoch t=71 is 0.4760711744014938\n",
      "Objective value at epoch t=72 is 0.47606826135573854\n",
      "Objective value at epoch t=73 is 0.4760632148518911\n",
      "Objective value at epoch t=74 is 0.47606052077120187\n",
      "Objective value at epoch t=75 is 0.47605675277334286\n",
      "Objective value at epoch t=76 is 0.476055418382775\n",
      "Objective value at epoch t=77 is 0.47605183215691804\n",
      "Objective value at epoch t=78 is 0.4760498706418357\n",
      "Objective value at epoch t=79 is 0.47604904034870377\n",
      "Objective value at epoch t=80 is 0.4760470088284223\n",
      "Objective value at epoch t=81 is 0.47604305586563456\n",
      "Objective value at epoch t=82 is 0.4760437872278421\n",
      "Objective value at epoch t=83 is 0.47604190305429195\n",
      "Objective value at epoch t=84 is 0.47604219736021797\n",
      "Objective value at epoch t=85 is 0.4760404534870777\n",
      "Objective value at epoch t=86 is 0.4760387043698832\n",
      "Objective value at epoch t=87 is 0.47603747731484536\n",
      "Objective value at epoch t=88 is 0.4760377257087942\n",
      "Objective value at epoch t=89 is 0.4760365335351039\n",
      "Objective value at epoch t=90 is 0.4760356168358918\n",
      "Objective value at epoch t=91 is 0.4760348493964619\n",
      "Objective value at epoch t=92 is 0.4760348456099111\n",
      "Objective value at epoch t=93 is 0.4760343131050291\n",
      "Objective value at epoch t=94 is 0.47603399234206273\n",
      "Objective value at epoch t=95 is 0.4760337494818854\n",
      "Objective value at epoch t=96 is 0.4760335263782036\n",
      "Objective value at epoch t=97 is 0.4760331031262568\n",
      "Objective value at epoch t=98 is 0.47603280785993224\n",
      "Objective value at epoch t=99 is 0.4760326701502371\n"
     ]
    }
   ],
   "source": [
    "# MB-SGD with batch size b=8\n",
    "lam = 1E-6 # do not change\n",
    "b = 8 # do not change\n",
    "stepsize = 0.8 # you must tune this parameter\n",
    "\n",
    "w, objvals_mbsgd8 = mb_sgd(x_train, y_train, lam, b, stepsize)"
   ]
  },
  {
   "cell_type": "code",
   "execution_count": 20,
   "metadata": {},
   "outputs": [
    {
     "name": "stdout",
     "output_type": "stream",
     "text": [
      "Objective value at epoch t=0 is 0.5687624490424867\n",
      "Objective value at epoch t=1 is 0.4996721436041194\n",
      "Objective value at epoch t=2 is 0.4877104506775629\n",
      "Objective value at epoch t=3 is 0.48344676432917555\n",
      "Objective value at epoch t=4 is 0.4817357360218131\n",
      "Objective value at epoch t=5 is 0.4795641643079467\n",
      "Objective value at epoch t=6 is 0.47893048653198617\n",
      "Objective value at epoch t=7 is 0.47863343975141925\n",
      "Objective value at epoch t=8 is 0.4787775724979799\n",
      "Objective value at epoch t=9 is 0.47846644323294235\n",
      "Objective value at epoch t=10 is 0.47818309742185783\n",
      "Objective value at epoch t=11 is 0.47772303603985367\n",
      "Objective value at epoch t=12 is 0.4774978059729693\n",
      "Objective value at epoch t=13 is 0.4773058878009815\n",
      "Objective value at epoch t=14 is 0.477387918513068\n",
      "Objective value at epoch t=15 is 0.4772624497143005\n",
      "Objective value at epoch t=16 is 0.4770763581892\n",
      "Objective value at epoch t=17 is 0.4770336324307028\n",
      "Objective value at epoch t=18 is 0.4768299857046689\n",
      "Objective value at epoch t=19 is 0.4768105961500262\n",
      "Objective value at epoch t=20 is 0.4764935311836811\n",
      "Objective value at epoch t=21 is 0.47662923692744336\n",
      "Objective value at epoch t=22 is 0.47649783811790397\n",
      "Objective value at epoch t=23 is 0.4765436946083173\n",
      "Objective value at epoch t=24 is 0.47652969534159406\n",
      "Objective value at epoch t=25 is 0.4765306488689738\n",
      "Objective value at epoch t=26 is 0.47632221338906605\n",
      "Objective value at epoch t=27 is 0.4763137191829868\n",
      "Objective value at epoch t=28 is 0.47629757782159116\n",
      "Objective value at epoch t=29 is 0.4763213045154954\n",
      "Objective value at epoch t=30 is 0.476343133748295\n",
      "Objective value at epoch t=31 is 0.47629592289734846\n",
      "Objective value at epoch t=32 is 0.4762558979335323\n",
      "Objective value at epoch t=33 is 0.4761966586774576\n",
      "Objective value at epoch t=34 is 0.47619885000807116\n",
      "Objective value at epoch t=35 is 0.4761896999299194\n",
      "Objective value at epoch t=36 is 0.4762085291164751\n",
      "Objective value at epoch t=37 is 0.4761723810871451\n",
      "Objective value at epoch t=38 is 0.47616668177638916\n",
      "Objective value at epoch t=39 is 0.4761590269883629\n",
      "Objective value at epoch t=40 is 0.4761766009679302\n",
      "Objective value at epoch t=41 is 0.47610695680209664\n",
      "Objective value at epoch t=42 is 0.47611537319230984\n",
      "Objective value at epoch t=43 is 0.4761048975356479\n",
      "Objective value at epoch t=44 is 0.476112327129227\n",
      "Objective value at epoch t=45 is 0.47610060855167025\n",
      "Objective value at epoch t=46 is 0.47609792121357214\n",
      "Objective value at epoch t=47 is 0.47609338214223573\n",
      "Objective value at epoch t=48 is 0.47608379421342306\n",
      "Objective value at epoch t=49 is 0.47607989700677406\n",
      "Objective value at epoch t=50 is 0.47608383952927097\n",
      "Objective value at epoch t=51 is 0.47607730836189416\n",
      "Objective value at epoch t=52 is 0.47607198108547044\n",
      "Objective value at epoch t=53 is 0.4760718831939837\n",
      "Objective value at epoch t=54 is 0.4760714672410636\n",
      "Objective value at epoch t=55 is 0.47606901308931565\n",
      "Objective value at epoch t=56 is 0.4760680137609595\n",
      "Objective value at epoch t=57 is 0.47606712511529914\n",
      "Objective value at epoch t=58 is 0.4760628819011351\n",
      "Objective value at epoch t=59 is 0.47606393105399614\n",
      "Objective value at epoch t=60 is 0.47606384960887316\n",
      "Objective value at epoch t=61 is 0.47606078425379234\n",
      "Objective value at epoch t=62 is 0.4760600111153954\n",
      "Objective value at epoch t=63 is 0.4760597128507593\n",
      "Objective value at epoch t=64 is 0.476059388229807\n",
      "Objective value at epoch t=65 is 0.47605784795246653\n",
      "Objective value at epoch t=66 is 0.4760571515152117\n",
      "Objective value at epoch t=67 is 0.4760555442101148\n",
      "Objective value at epoch t=68 is 0.47605580800958447\n",
      "Objective value at epoch t=69 is 0.4760554380124129\n",
      "Objective value at epoch t=70 is 0.4760560727140264\n",
      "Objective value at epoch t=71 is 0.4760554600963035\n",
      "Objective value at epoch t=72 is 0.4760540003946478\n",
      "Objective value at epoch t=73 is 0.4760545160240599\n",
      "Objective value at epoch t=74 is 0.4760540169083388\n",
      "Objective value at epoch t=75 is 0.47605361059597495\n",
      "Objective value at epoch t=76 is 0.47605367007539406\n",
      "Objective value at epoch t=77 is 0.4760536999651348\n",
      "Objective value at epoch t=78 is 0.4760539333869287\n",
      "Objective value at epoch t=79 is 0.4760534045596534\n",
      "Objective value at epoch t=80 is 0.47605303678493904\n",
      "Objective value at epoch t=81 is 0.47605325268292753\n",
      "Objective value at epoch t=82 is 0.4760532354267366\n",
      "Objective value at epoch t=83 is 0.4760532187688066\n",
      "Objective value at epoch t=84 is 0.47605308429506793\n",
      "Objective value at epoch t=85 is 0.4760528542318886\n",
      "Objective value at epoch t=86 is 0.4760526961669294\n",
      "Objective value at epoch t=87 is 0.476052725409959\n",
      "Objective value at epoch t=88 is 0.4760526329657542\n",
      "Objective value at epoch t=89 is 0.47605257939911133\n",
      "Objective value at epoch t=90 is 0.47605254195847463\n",
      "Objective value at epoch t=91 is 0.47605251835572765\n",
      "Objective value at epoch t=92 is 0.47605248987873044\n",
      "Objective value at epoch t=93 is 0.4760523801794756\n",
      "Objective value at epoch t=94 is 0.4760523818105707\n",
      "Objective value at epoch t=95 is 0.4760522767833786\n",
      "Objective value at epoch t=96 is 0.4760523276465842\n",
      "Objective value at epoch t=97 is 0.47605227143339646\n",
      "Objective value at epoch t=98 is 0.47605228784483694\n",
      "Objective value at epoch t=99 is 0.47605225741558804\n"
     ]
    }
   ],
   "source": [
    "# MB-SGD with batch size b=64\n",
    "lam = 1E-6 # do not change\n",
    "b = 64 # do not change\n",
    "stepsize = 0.5 # you must tune this parameter\n",
    "\n",
    "w, objvals_mbsgd64 = mb_sgd(x_train, y_train, lam, b, stepsize)"
   ]
  },
  {
   "cell_type": "markdown",
   "metadata": {},
   "source": [
    "# 7. Plot and compare GD, SGD, and MB-SGD"
   ]
  },
  {
   "cell_type": "markdown",
   "metadata": {},
   "source": [
    "You are required to compare the following algorithms:\n",
    "\n",
    "- Gradient descent (GD)\n",
    "\n",
    "- SGD\n",
    "\n",
    "- MB-SGD with b=8\n",
    "\n",
    "- MB-SGD with b=64\n",
    "\n",
    "Follow the code in Section 4 to plot ```objective function value``` against ```epochs```. There should be four curves in the plot; each curve corresponds to one algorithm."
   ]
  },
  {
   "cell_type": "markdown",
   "metadata": {},
   "source": [
    "Hint: Logistic regression with $\\ell_2$-norm regularization is a strongly convex optimization problem. All the algorithms will converge to the same solution. **In the end, the ``objective function value`` of the 4 algorithms will be the same. If not the same, your implementation must be wrong. Do NOT submit wrong code and wrong result!**"
   ]
  },
  {
   "cell_type": "code",
   "execution_count": 21,
   "metadata": {},
   "outputs": [
    {
     "data": {
      "image/png": "[encoded data removed]",
      "text/plain": [
       "<Figure size 432x288 with 1 Axes>"
      ]
     },
     "metadata": {
      "needs_background": "light"
     },
     "output_type": "display_data"
    }
   ],
   "source": [
    "# plot the 4 curves:\n",
    "from matplotlib import pyplot as plt\n",
    "import numpy as np\n",
    "%matplotlib inline\n",
    "figure  = plt.figure(figsize=(6,4))\n",
    "\n",
    "plt.xlabel(\"Epoch\", fontsize=20)\n",
    "plt.ylabel(\"Objective value\", fontsize=20)\n",
    "\n",
    "epoch_gd = np.arange(0, len(objvals_gd), 1)\n",
    "epoch_sgd = np.arange(0, len(objvals_sgd), 1)\n",
    "epoch_mb8 = np.arange(0, len(objvals_mbsgd8), 1)\n",
    "epoch_mb64 = numpy.arange(0, len(objvals_mbsgd64), 1)\n",
    "\n",
    "plt.xticks(fontsize=16)\n",
    "plt.yticks(fontsize=16)\n",
    "\n",
    "\n",
    "line0, = plt.plot( epoch_gd, objvals_gd, color='green', marker='o', linewidth=8)\n",
    "line1, = plt.plot(epoch_sgd, objvals_sgd, marker = '>',color = 'red', linewidth=6)\n",
    "line2, = plt.plot(epoch_mb8, objvals_mbsgd8, marker ='s', color='blue', linewidth=4)\n",
    "line3, = plt.plot(epoch_mb64, objvals_mbsgd64, marker ='+', color='yellow', linewidth=2)\n",
    "\n",
    "plt.legend([line0, line1,line2,line3], ['GD', 'SGD','MBSGD8','MBSGD64'], fontsize=10,loc='upper right' )\n",
    "\n",
    "plt.show()"
   ]
  },
  {
   "cell_type": "markdown",
   "metadata": {},
   "source": [
    "\n"
   ]
  }
 ],
 "metadata": {
  "kernelspec": {
   "display_name": "Python 3",
   "language": "python",
   "name": "python3"
  },
  "language_info": {
   "codemirror_mode": {
    "name": "ipython",
    "version": 3
   },
   "file_extension": ".py",
   "mimetype": "text/x-python",
   "name": "python",
   "nbconvert_exporter": "python",
   "pygments_lexer": "ipython3",
   "version": "3.7.3"
  }
 },
 "nbformat": 4,
 "nbformat_minor": 2
}
